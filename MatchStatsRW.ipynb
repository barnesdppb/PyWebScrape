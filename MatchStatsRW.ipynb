{
 "cells": [
  {
   "cell_type": "code",
   "execution_count": 2,
   "metadata": {
    "collapsed": false
   },
   "outputs": [],
   "source": [
    "from urllib.request import urlopen\n",
    "from bs4 import BeautifulSoup as bs\n",
    "import datetime\n",
    "import random\n",
    "import re\n",
    "import pprint\n",
    "import json\n",
    "\n",
    "def getMatchLinks (articleUrl):\n",
    "    html = urlopen(\"http://www.espn.co.uk/rugby/fixtures/_/date/\" + articleUrl)\n",
    "    bsObj = bs(html, \"lxml\")\n",
    "    tst = bsObj.find(\"section\", {\"id\":\"pane-main\"}).findAll(\"script\", {\"type\":\"text/javascript\"})\n",
    "    for t in tst:\n",
    "        json_text = re.search(r'^\\s*window\\.__INITIAL_STATE__\\s*=\\s*({.*?})\\s*;\\s*$',\n",
    "                      t.string, flags=re.DOTALL | re.MULTILINE).group(1)\n",
    "\n",
    "    json_out = json.loads(json_text)\n",
    "    \n",
    "    # Get just the match links\n",
    "    json_match = json_out['schedule']['groups']\n",
    "    matches = []\n",
    "    for m in json_match:\n",
    "        for c in m['complete']:\n",
    "            matches.append(c['result']['href'])\n",
    "            \n",
    "    return matches\n",
    "\n",
    "links = getMatchLinks('20170304')"
   ]
  },
  {
   "cell_type": "code",
   "execution_count": 3,
   "metadata": {
    "collapsed": false
   },
   "outputs": [
    {
     "name": "stdout",
     "output_type": "stream",
     "text": [
      "/rugby/matchstats?gameId=290088&league=267979\n",
      "/rugby/playerstats?gameId=290088&league=267979\n"
     ]
    }
   ],
   "source": [
    "def getStatsLinks (articleUrl):\n",
    "    html = urlopen(\"http://www.espn.co.uk\" + articleUrl)\n",
    "    bsObj = bs(html, \"lxml\")\n",
    "    tst = bsObj.find(\"section\", {\"id\":\"pane-main\"}).findAll(\"script\", {\"type\":\"text/javascript\"})\n",
    "    \n",
    "    json_out = []\n",
    "    for t in tst:\n",
    "        json_text = re.search(r'^\\s*window\\.__INITIAL_STATE__\\s*=\\s*({.*?})\\s*;\\s*$',\n",
    "                          t.string, flags=re.DOTALL | re.MULTILINE).group(1)\n",
    "        json_out.append(json.loads(json_text))\n",
    "\n",
    "    for j in json_out[0]['gamePackage']['links']:\n",
    "        if j['pageType'] == 'matchstats':\n",
    "            match_s = j['href']\n",
    "        elif j['pageType'] == 'playerstats':\n",
    "            player_s = j['href']\n",
    "            \n",
    "    return match_s, player_s\n",
    "\n",
    "m, p = getStatsLinks(links[0])\n",
    "print(m)\n",
    "print(p)"
   ]
  },
  {
   "cell_type": "code",
   "execution_count": 4,
   "metadata": {
    "collapsed": false,
    "scrolled": true
   },
   "outputs": [],
   "source": [
    "def getStats(statsUrl):\n",
    "    html = urlopen(\"http://www.espn.co.uk\" + statsUrl)\n",
    "    bsObj = bs(html, \"lxml\")  \n",
    "    tst = bsObj.find(\"section\", {\"id\":\"pane-main\"}).findAll(\"script\", {\"type\":\"text/javascript\"})\n",
    "    \n",
    "    stat_out = []\n",
    "    for t in tst:\n",
    "        json_text = re.search(r'^\\s*window\\.__INITIAL_STATE__\\s*=\\s*({.*?})\\s*;\\s*$',\n",
    "                              t.string, flags=re.DOTALL | re.MULTILINE).group(1)\n",
    "        stat_out.append(json.loads(json_text))\n",
    "        \n",
    "    return stat_out[0]"
   ]
  },
  {
   "cell_type": "code",
   "execution_count": 297,
   "metadata": {
    "collapsed": false
   },
   "outputs": [
    {
     "name": "stdout",
     "output_type": "stream",
     "text": [
      "matchHomeForm\n",
      "commentaryFeedback\n",
      "article\n",
      "news\n",
      "matchGlossary\n",
      "polling\n",
      "matchAttacking\n",
      "matchDetails\n",
      "gameState\n",
      "standings\n",
      "gameStateClass\n",
      "headToHead\n",
      "matchCommentary\n",
      "matchEvents\n",
      "matchAwayForm\n",
      "leagueUid\n",
      "showGameDetailFooter\n",
      "matchSummary\n",
      "meta\n",
      "matchDefending\n",
      "HeadToHeadNode\n",
      "gameStrip\n",
      "matchStats\n",
      "matchLineUp\n",
      "matchDiscipline\n",
      "analytics\n",
      "matchConversation\n",
      "links\n"
     ]
    }
   ],
   "source": [
    "tst = getStats('/rugby/matchstats?gameId=290088&league=267979')\n",
    "\n",
    "for t in tst['gamePackage']:\n",
    "    print(t)"
   ]
  },
  {
   "cell_type": "code",
   "execution_count": 160,
   "metadata": {
    "collapsed": false
   },
   "outputs": [
    {
     "name": "stdout",
     "output_type": "stream",
     "text": [
      "{'away': {'color': '#000000',\n",
      "          'logo': 'http://a1.espncdn.com/combiner/i?img=/i/teamlogos/rugby/teams/500/25905.png&h=35&w=35',\n",
      "          'name': 'WASPS'},\n",
      " 'col': [[{'data': [{'awayValue': '3', 'homeValue': '0', 'text': 'Tries'},\n",
      "                    {'awayValue': '3',\n",
      "                     'homeValue': '0',\n",
      "                     'text': 'Conversion Goals'},\n",
      "                    {'awayValue': '1',\n",
      "                     'homeValue': '1',\n",
      "                     'text': 'Penalty Goals'},\n",
      "                    {'awayValue': '100%',\n",
      "                     'homeValue': '100%',\n",
      "                     'text': 'Kick Percent Success'}],\n",
      "           'type': 'table'}],\n",
      "         [{'data': {'awayText': '591',\n",
      "                    'homeText': '381',\n",
      "                    'homeValue': 39,\n",
      "                    'text': 'Metres Run'},\n",
      "           'type': 'dataVis'},\n",
      "          {'data': [{'awayValue': '34',\n",
      "                     'homeValue': '32',\n",
      "                     'text': 'Kicks From Hand'},\n",
      "                    {'awayValue': '173', 'homeValue': '158', 'text': 'Passes'},\n",
      "                    {'awayValue': '133', 'homeValue': '101', 'text': 'Runs'}],\n",
      "           'type': 'table'}]],\n",
      " 'home': {'color': '#000099',\n",
      "          'logo': 'http://a1.espncdn.com/combiner/i?img=/i/teamlogos/rugby/teams/500/25898.png&h=35&w=35',\n",
      "          'name': 'BATH'},\n",
      " 'split': True,\n",
      " 'title': ['Match Events', 'Kick/Pass/Run']}\n",
      "----------------------------------\n",
      "{'away': {'color': '#000000',\n",
      "          'logo': 'http://a1.espncdn.com/combiner/i?img=/i/teamlogos/rugby/teams/500/25905.png&h=35&w=35',\n",
      "          'name': 'WASPS'},\n",
      " 'dataVis': [{'awayText': '49%',\n",
      "              'awayValue': 49,\n",
      "              'homeText': '50%',\n",
      "              'homeValue': 50,\n",
      "              'text': 'Possession'},\n",
      "             {'awayText': '56%',\n",
      "              'awayValue': 56,\n",
      "              'homeText': '43%',\n",
      "              'homeValue': 43,\n",
      "              'text': 'Territory'}],\n",
      " 'home': {'color': '#000099',\n",
      "          'logo': 'http://a1.espncdn.com/combiner/i?img=/i/teamlogos/rugby/teams/500/25898.png&h=35&w=35',\n",
      "          'name': 'BATH'},\n",
      " 'isTeamLinkActive': True,\n",
      " 'link': {'classes': [],\n",
      "          'dataRoute': False,\n",
      "          'external': False,\n",
      "          'href': '/rugby/matchstats?gameId=290088&league=267979',\n",
      "          'isRouterLink': True,\n",
      "          'pageType': 'matchstats',\n",
      "          'text': 'Full Match Stats',\n",
      "          'to': '/rugby/matchstats?gameId=290088&league=267979',\n",
      "          'trackingName': '&lpos=rugby:game:subnav:matchstats'},\n",
      " 'sport': 'rugby',\n",
      " 'table': [{'awayValue': '133', 'homeValue': '101', 'text': 'Runs'},\n",
      "           {'awayValue': '591', 'homeValue': '381', 'text': 'Metres Run'},\n",
      "           {'awayValue': '12', 'homeValue': '6', 'text': 'Clean Breaks'},\n",
      "           {'awayValue': '105', 'homeValue': '124', 'text': 'Tackles'},\n",
      "           {'awayValue': '15', 'homeValue': '24', 'text': 'Missed Tackles'},\n",
      "           {'awayValue': '20', 'homeValue': '21', 'text': 'Turnover Knock On'}],\n",
      " 'title': 'Match Stats'}\n",
      "----------------------------------\n",
      "{'away': {'color': '#000000',\n",
      "          'logo': 'http://a1.espncdn.com/combiner/i?img=/i/teamlogos/rugby/teams/500/25905.png&h=35&w=35',\n",
      "          'name': 'WASPS'},\n",
      " 'col': [[{'data': {'awayText': '49%',\n",
      "                    'awayValue': 49,\n",
      "                    'homeText': '50%',\n",
      "                    'homeValue': 50,\n",
      "                    'text': 'Possession'},\n",
      "           'type': 'dataVis'},\n",
      "          {'data': {'awayText': '56%',\n",
      "                    'awayValue': 56,\n",
      "                    'homeText': '43%',\n",
      "                    'homeValue': 43,\n",
      "                    'text': 'Territory'},\n",
      "           'size': 'large',\n",
      "           'type': 'dataVis'}],\n",
      "         [{'data': [{'awayValue': '56% / 40%',\n",
      "                     'homeValue': '43% / 58%',\n",
      "                     'text': 'Possession 1H/2H'},\n",
      "                    {'awayValue': '64% / 49%',\n",
      "                     'homeValue': '34% / 50%',\n",
      "                     'text': 'Territory 1H/2H'},\n",
      "                    {'awayValue': '12',\n",
      "                     'homeValue': '6',\n",
      "                     'text': 'Clean Breaks'},\n",
      "                    {'awayValue': '24',\n",
      "                     'homeValue': '15',\n",
      "                     'text': 'Defenders Beaten'},\n",
      "                    {'awayValue': '11', 'homeValue': '5', 'text': 'Offload'},\n",
      "                    {'awayValue': '83 / 85 (97%)',\n",
      "                     'homeValue': '72 / 77 (93%)',\n",
      "                     'text': 'Rucks Won'},\n",
      "                    {'awayValue': '2 / 2 (100%)',\n",
      "                     'homeValue': '3 / 5 (60%)',\n",
      "                     'text': 'Mauls Won'},\n",
      "                    {'awayValue': '20',\n",
      "                     'homeValue': '21',\n",
      "                     'text': 'Turnovers Conceded'}],\n",
      "           'type': 'table'}]],\n",
      " 'home': {'color': '#000099',\n",
      "          'logo': 'http://a1.espncdn.com/combiner/i?img=/i/teamlogos/rugby/teams/500/25898.png&h=35&w=35',\n",
      "          'name': 'BATH'},\n",
      " 'split': False,\n",
      " 'title': 'Attacking'}\n",
      "----------------------------------\n",
      "{'away': {'color': '#000000',\n",
      "          'logo': 'http://a1.espncdn.com/combiner/i?img=/i/teamlogos/rugby/teams/500/25905.png&h=35&w=35',\n",
      "          'name': 'WASPS'},\n",
      " 'col': [[{'data': {'awayTotal': '9',\n",
      "                    'awayWon': '9',\n",
      "                    'homeTotal': '12',\n",
      "                    'homeWon': '12',\n",
      "                    'text': 'Scrums Won'},\n",
      "           'type': 'dataVisIcons'},\n",
      "          {'data': {'awayTotal': '8',\n",
      "                    'awayWon': '5',\n",
      "                    'homeTotal': '16',\n",
      "                    'homeWon': '14',\n",
      "                    'text': 'Lineouts Won'},\n",
      "           'type': 'dataVisIcons'}],\n",
      "         [{'data': {'awayTotal': '105',\n",
      "                    'awayWon': 90,\n",
      "                    'homeTotal': '124',\n",
      "                    'homeWon': 100,\n",
      "                    'text': 'Tackles'},\n",
      "           'type': 'dataVisPie'}]],\n",
      " 'home': {'color': '#000099',\n",
      "          'logo': 'http://a1.espncdn.com/combiner/i?img=/i/teamlogos/rugby/teams/500/25898.png&h=35&w=35',\n",
      "          'name': 'BATH'},\n",
      " 'split': True,\n",
      " 'title': ['Set Pieces', 'Defending']}\n",
      "----------------------------------\n",
      "{'away': {'color': '#000000',\n",
      "          'logo': 'http://a1.espncdn.com/combiner/i?img=/i/teamlogos/rugby/teams/500/25905.png&h=35&w=35',\n",
      "          'name': 'WASPS'},\n",
      " 'col': [[{'data': {'awayTotal': '9',\n",
      "                    'awayWon': '9',\n",
      "                    'homeTotal': '6',\n",
      "                    'homeWon': '6',\n",
      "                    'text': 'Penalties Conceded'},\n",
      "           'type': 'dataVisCount'}],\n",
      "         [{'data': [{'awayValue': '0', 'homeValue': '0', 'text': 'Red Cards'},\n",
      "                    {'awayValue': '0',\n",
      "                     'homeValue': '0',\n",
      "                     'text': 'Yellow Cards'},\n",
      "                    {'awayValue': '1',\n",
      "                     'homeValue': '1',\n",
      "                     'text': 'Total Free Kicks Conceded'}],\n",
      "           'type': 'table'}]],\n",
      " 'home': {'color': '#000099',\n",
      "          'logo': 'http://a1.espncdn.com/combiner/i?img=/i/teamlogos/rugby/teams/500/25898.png&h=35&w=35',\n",
      "          'name': 'BATH'},\n",
      " 'split': False,\n",
      " 'title': 'Discipline'}\n"
     ]
    }
   ],
   "source": [
    "from pprint import pprint\n",
    "# Kicks/passes/runs, metres run, tries/penalties/conversions\n",
    "pprint(tst['gamePackage']['matchEvents'])\n",
    "print ('----------------------------------')\n",
    "# Overall possession/territory, Runs/metres/clean breaks/tackles/missed tackles/turnovers\n",
    "pprint(tst['gamePackage']['matchStats'])\n",
    "print ('----------------------------------')\n",
    "# defenders beaten, poss/terr per half, offloads, rucks won, mauls won\n",
    "pprint(tst['gamePackage']['matchAttacking'])\n",
    "print ('----------------------------------')\n",
    "# Scrums and lineouts, tackles made and missed, \n",
    "pprint(tst['gamePackage']['matchDefending'])\n",
    "print ('----------------------------------')\n",
    "# Penalties conceded, yellow + red cards, free kicks conceded\n",
    "pprint(tst['gamePackage']['matchDiscipline'])"
   ]
  },
  {
   "cell_type": "code",
   "execution_count": 165,
   "metadata": {
    "collapsed": false
   },
   "outputs": [
    {
     "name": "stdout",
     "output_type": "stream",
     "text": [
      "home\n",
      "split\n",
      "col\n",
      "title\n",
      "away\n"
     ]
    }
   ],
   "source": [
    "for t in tst['gamePackage']['matchEvents']:\n",
    "    print(t)"
   ]
  },
  {
   "cell_type": "code",
   "execution_count": 202,
   "metadata": {
    "collapsed": false
   },
   "outputs": [
    {
     "name": "stdout",
     "output_type": "stream",
     "text": [
      "[{'awayValue': '3', 'homeValue': '0', 'text': 'Tries'},\n",
      " {'awayValue': '3', 'homeValue': '0', 'text': 'Conversion Goals'},\n",
      " {'awayValue': '1', 'homeValue': '1', 'text': 'Penalty Goals'},\n",
      " {'awayValue': '100%', 'homeValue': '100%', 'text': 'Kick Percent Success'}]\n",
      "{'awayText': '591', 'homeText': '381', 'homeValue': 39, 'text': 'Metres Run'}\n",
      "[{'awayValue': '34', 'homeValue': '32', 'text': 'Kicks From Hand'},\n",
      " {'awayValue': '173', 'homeValue': '158', 'text': 'Passes'},\n",
      " {'awayValue': '133', 'homeValue': '101', 'text': 'Runs'}]\n"
     ]
    }
   ],
   "source": [
    "cols = []\n",
    "vals = []\n",
    "for t in tst['gamePackage']['matchEvents']['col']:\n",
    "    if type(t) is list:\n",
    "        for x in t:\n",
    "            pprint(x['data'])"
   ]
  },
  {
   "cell_type": "code",
   "execution_count": 298,
   "metadata": {
    "collapsed": false
   },
   "outputs": [
    {
     "name": "stdout",
     "output_type": "stream",
     "text": [
      "{'data': [{'awayValue': '34', 'homeValue': '32', 'text': 'Kicks From Hand'},\n",
      "          {'awayValue': '173', 'homeValue': '158', 'text': 'Passes'},\n",
      "          {'awayValue': '133', 'homeValue': '101', 'text': 'Runs'}],\n",
      " 'type': 'table'}\n"
     ]
    }
   ],
   "source": [
    "kpr = tst['gamePackage']['matchEvents']['col'][1][1]\n",
    "\n",
    "pprint(kpr)"
   ]
  },
  {
   "cell_type": "code",
   "execution_count": 299,
   "metadata": {
    "collapsed": false
   },
   "outputs": [],
   "source": [
    "# Rename the fields in the dictionaries so know what they are when they go into the DB\n",
    "new_kpr = kpr.copy()\n",
    "for k in new_kpr['data']:\n",
    "    if k['text'] == 'Kicks From Hand':\n",
    "        k['away_kicks_from_hand'] = k.pop('awayValue')\n",
    "        k['home_kicks_from_hand'] = k.pop('homeValue')\n",
    "    elif k['text'] == 'Passes':\n",
    "        k['away_passes'] = k.pop('awayValue')\n",
    "        k['home_passes'] = k.pop('homeValue')\n",
    "    elif k['text'] == 'Runs':\n",
    "        k['away_runs'] = k.pop('awayValue')\n",
    "        k['home_runs'] = k.pop('homeValue')"
   ]
  },
  {
   "cell_type": "code",
   "execution_count": 250,
   "metadata": {
    "collapsed": false
   },
   "outputs": [
    {
     "name": "stdout",
     "output_type": "stream",
     "text": [
      "{'data': [{'away_kicks_from_hand': '34',\n",
      "           'home_kicks_from_hand': '32',\n",
      "           'text': 'Kicks From Hand'},\n",
      "          {'away_passes': '173', 'home_passes': '158', 'text': 'Passes'},\n",
      "          {'away_runs': '133', 'home_runs': '101', 'text': 'Runs'}],\n",
      " 'type': 'table'}\n"
     ]
    }
   ],
   "source": [
    "pprint(new_kpr)"
   ]
  },
  {
   "cell_type": "code",
   "execution_count": 300,
   "metadata": {
    "collapsed": false
   },
   "outputs": [
    {
     "name": "stdout",
     "output_type": "stream",
     "text": [
      "{'away_kicks_from_hand': '34',\n",
      " 'home_kicks_from_hand': '32',\n",
      " 'text': 'Kicks From Hand'}\n"
     ]
    }
   ],
   "source": [
    "pprint(new_kpr['data'][0])\n",
    "\n",
    "# Add the col name and value to two lists\n",
    "vals, cols = [], []\n",
    "for k in new_kpr['data'][0]:\n",
    "    if k == 'text':\n",
    "        continue\n",
    "    else:\n",
    "        cols.append(k)\n",
    "        vals.append(new_kpr['data'][0][k])"
   ]
  },
  {
   "cell_type": "code",
   "execution_count": 301,
   "metadata": {
    "collapsed": false
   },
   "outputs": [
    {
     "name": "stdout",
     "output_type": "stream",
     "text": [
      "['away_kicks_from_hand', 'home_kicks_from_hand'] ['34', '32']\n"
     ]
    }
   ],
   "source": [
    "print(cols, vals)"
   ]
  },
  {
   "cell_type": "code",
   "execution_count": 284,
   "metadata": {
    "collapsed": false
   },
   "outputs": [
    {
     "name": "stdout",
     "output_type": "stream",
     "text": [
      "[{'awayText': '49%',\n",
      "  'awayValue': 49,\n",
      "  'homeText': '50%',\n",
      "  'homeValue': 50,\n",
      "  'text': 'Possession'},\n",
      " {'awayText': '56%',\n",
      "  'awayValue': 56,\n",
      "  'homeText': '43%',\n",
      "  'homeValue': 43,\n",
      "  'text': 'Territory'}]\n"
     ]
    }
   ],
   "source": [
    "poss = tst['gamePackage']['matchStats']['dataVis']\n",
    "pprint(poss)"
   ]
  },
  {
   "cell_type": "code",
   "execution_count": 295,
   "metadata": {
    "collapsed": false
   },
   "outputs": [],
   "source": [
    "new_poss = poss.copy()\n",
    "for p in new_poss:\n",
    "    if p['text'] == 'Possession':\n",
    "        p['home_possession'] = p.pop('homeValue')\n",
    "        p['away_possession'] = p.pop('awayValue')\n",
    "    elif p['text'] == 'Territory':\n",
    "        p['home_territory'] = p.pop('homeValue')\n",
    "        p['away_territory'] = p.pop('awayValue')"
   ]
  },
  {
   "cell_type": "code",
   "execution_count": 296,
   "metadata": {
    "collapsed": false
   },
   "outputs": [
    {
     "data": {
      "text/plain": [
       "[{'awayText': '49%',\n",
       "  'away_possession': 49,\n",
       "  'homeText': '50%',\n",
       "  'home_possession': 50,\n",
       "  'text': 'Possession'},\n",
       " {'awayText': '56%',\n",
       "  'away_territory': 56,\n",
       "  'homeText': '43%',\n",
       "  'home_territory': 43,\n",
       "  'text': 'Territory'}]"
      ]
     },
     "execution_count": 296,
     "metadata": {},
     "output_type": "execute_result"
    }
   ],
   "source": [
    "new_poss"
   ]
  }
 ],
 "metadata": {
  "anaconda-cloud": {},
  "kernelspec": {
   "display_name": "Python [default]",
   "language": "python",
   "name": "python3"
  },
  "language_info": {
   "codemirror_mode": {
    "name": "ipython",
    "version": 3
   },
   "file_extension": ".py",
   "mimetype": "text/x-python",
   "name": "python",
   "nbconvert_exporter": "python",
   "pygments_lexer": "ipython3",
   "version": "3.5.2"
  }
 },
 "nbformat": 4,
 "nbformat_minor": 1
}
