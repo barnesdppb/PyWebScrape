{
 "cells": [
  {
   "cell_type": "code",
   "execution_count": 4,
   "metadata": {
    "collapsed": false
   },
   "outputs": [],
   "source": [
    "from urllib.request import urlopen\n",
    "from bs4 import BeautifulSoup as bs\n",
    "import datetime\n",
    "import random\n",
    "import re\n",
    "import pprint\n",
    "import json\n",
    "\n",
    "def getMatchLinks (articleUrl):\n",
    "    html = urlopen(\"http://www.espn.co.uk/rugby/fixtures/_/date/\" + articleUrl)\n",
    "    bsObj = bs(html, \"lxml\")\n",
    "    tst = bsObj.find(\"section\", {\"id\":\"pane-main\"}).findAll(\"script\", {\"type\":\"text/javascript\"})\n",
    "    for t in tst:\n",
    "        json_text = re.search(r'^\\s*window\\.__INITIAL_STATE__\\s*=\\s*({.*?})\\s*;\\s*$',\n",
    "                      t.string, flags=re.DOTALL | re.MULTILINE).group(1)\n",
    "\n",
    "    json_out = json.loads(json_text)\n",
    "    \n",
    "    # Get just the match links\n",
    "    json_match = json_out['schedule']['groups']\n",
    "    matches = []\n",
    "    for m in json_match:\n",
    "        for c in m['complete']:\n",
    "            matches.append(c['result']['href'])\n",
    "            \n",
    "    return matches\n",
    "\n",
    "links = getMatchLinks('20170304')"
   ]
  },
  {
   "cell_type": "code",
   "execution_count": 5,
   "metadata": {
    "collapsed": false
   },
   "outputs": [
    {
     "name": "stdout",
     "output_type": "stream",
     "text": [
      "/rugby/matchstats?gameId=290088&league=267979\n",
      "/rugby/playerstats?gameId=290088&league=267979\n"
     ]
    }
   ],
   "source": [
    "def getStatsLinks (articleUrl):\n",
    "    html = urlopen(\"http://www.espn.co.uk\" + articleUrl)\n",
    "    bsObj = bs(html, \"lxml\")\n",
    "    tst = bsObj.find(\"section\", {\"id\":\"pane-main\"}).findAll(\"script\", {\"type\":\"text/javascript\"})\n",
    "    \n",
    "    json_out = []\n",
    "    for t in tst:\n",
    "        json_text = re.search(r'^\\s*window\\.__INITIAL_STATE__\\s*=\\s*({.*?})\\s*;\\s*$',\n",
    "                          t.string, flags=re.DOTALL | re.MULTILINE).group(1)\n",
    "        json_out.append(json.loads(json_text))\n",
    "\n",
    "    for j in json_out[0]['gamePackage']['links']:\n",
    "        if j['pageType'] == 'matchstats':\n",
    "            match_s = j['href']\n",
    "        elif j['pageType'] == 'playerstats':\n",
    "            player_s = j['href']\n",
    "            \n",
    "    return match_s, player_s\n",
    "\n",
    "m, p = getStatsLinks(links[0])\n",
    "print(m)\n",
    "print(p)"
   ]
  },
  {
   "cell_type": "code",
   "execution_count": 6,
   "metadata": {
    "collapsed": false,
    "scrolled": true
   },
   "outputs": [],
   "source": [
    "def getStats(statsUrl):\n",
    "    html = urlopen(\"http://www.espn.co.uk\" + statsUrl)\n",
    "    bsObj = bs(html, \"lxml\")  \n",
    "    tst = bsObj.find(\"section\", {\"id\":\"pane-main\"}).findAll(\"script\", {\"type\":\"text/javascript\"})\n",
    "    \n",
    "    stat_out = []\n",
    "    for t in tst:\n",
    "        json_text = re.search(r'^\\s*window\\.__INITIAL_STATE__\\s*=\\s*({.*?})\\s*;\\s*$',\n",
    "                              t.string, flags=re.DOTALL | re.MULTILINE).group(1)\n",
    "        stat_out.append(json.loads(json_text))\n",
    "        \n",
    "    return stat_out[0]"
   ]
  },
  {
   "cell_type": "code",
   "execution_count": 7,
   "metadata": {
    "collapsed": true
   },
   "outputs": [],
   "source": [
    "def getPlayerVals(d):\n",
    "\n",
    "    dct = d\n",
    "    dct['match_date'] = date\n",
    "    dct['match_id'] = match_id[0] # regex above returns list of one element\n",
    "    if 'id' in dct:\n",
    "        dct['player_id'] = dct.pop('id') # rename 'id' to 'player_id'\n",
    "    # This value should be unique and will be the primary key of the table\n",
    "    dct['row_nk'] = dct['player_id'] + dct['match_id'] \n",
    "\n",
    "    # remove entries we don't want - url is useless and eventTimes doesn't conform to the required structure\n",
    "    # these are the keys, i.e. table column names\n",
    "    cols = list(dct.keys())\n",
    "    cols = list(filter(lambda c: c != 'eventTimes', cols))\n",
    "    cols = list(filter(lambda c: c != 'url', cols))\n",
    "\n",
    "    # these are used for the SQL query, so everything gets inserted at once\n",
    "    placeholders = ', '.join(['%s'] * len(cols))\n",
    "    columns = ', '.join(cols)\n",
    "\n",
    "    # These are the values to be inserted into the table. Sometimes the values is a single value\n",
    "    # and other times is a dictionary, handle both instances\n",
    "    vals = []\n",
    "    for d in dct:\n",
    "        if d in cols:\n",
    "            if type(dct[d]) is dict:\n",
    "                vals.append(dct[d]['value'])\n",
    "            else:\n",
    "                vals.append(dct[d])\n",
    "\n",
    "    return placeholders, columns, vals"
   ]
  },
  {
   "cell_type": "code",
   "execution_count": 8,
   "metadata": {
    "collapsed": false
   },
   "outputs": [
    {
     "data": {
      "text/plain": [
       "0"
      ]
     },
     "execution_count": 8,
     "metadata": {},
     "output_type": "execute_result"
    }
   ],
   "source": [
    "# query to create the table in MySQL - this will need a match and player identifier\n",
    "sql = \"\"\"drop table if exists scraping.p_stats;\n",
    "        create table p_stats( row_nk varchar(50) not null\n",
    "                            , player_id bigint(7) not null\n",
    "                            , match_id varchar(20) not null\n",
    "                            , match_date varchar(20)\n",
    "                            , name varchar(200)\n",
    "                            , number varchar(10)\n",
    "                            , position varchar(10)\n",
    "                            , captain varchar(10)\n",
    "                            , subbed varchar(10)\n",
    "                            , homeAway varchar(10)\n",
    "                            , subToolTip varchar(10)\n",
    "                            , onPitch varchar(10)\n",
    "                            , wasActive varchar(10)\n",
    "                            , tries bigint(7)\n",
    "                            , tryassists bigint(7)\n",
    "                            , points bigint(7)\n",
    "                            , kicks bigint(7)\n",
    "                            , passes bigint(7)\n",
    "                            , runs bigint(7)\n",
    "                            , metres bigint(7)\n",
    "                            , cleanbreaks bigint(7)\n",
    "                            , defendersbeaten bigint(7)\n",
    "                            , offload bigint(7)\n",
    "                            , lineoutwonsteal bigint(7)\n",
    "                            , turnoversconceded bigint(7)\n",
    "                            , tackles bigint(7)\n",
    "                            , missedtackles bigint(7)\n",
    "                            , lineoutswon bigint(7)\n",
    "                            , penaltiesconceded bigint(7)\n",
    "                            , yellowcards bigint(7)\n",
    "                            , redcards bigint(7)\n",
    "                            , penalties bigint(7)\n",
    "                            , penaltygoals bigint(7)\n",
    "                            , conversiongoals bigint(7)\n",
    "                            , dropgoalsconverted bigint(7)\n",
    "                            , primary key(row_nk));\"\"\".replace(\"\\n\", \"\")\n",
    "\n",
    "# Run this first to set up connection drop the table, and create again before putting more data into it\n",
    "\n",
    "# Set up the connection\n",
    "import pymysql\n",
    "conn = pymysql.connect(host = '127.0.0.1', port = 3306,\n",
    "                       user = 'root', passwd = '', db = 'mysql')\n",
    "\n",
    "cur = conn.cursor()\n",
    "cur.execute(\"USE scraping\")\n",
    "cur.execute(sql)"
   ]
  },
  {
   "cell_type": "code",
   "execution_count": 9,
   "metadata": {
    "collapsed": false
   },
   "outputs": [],
   "source": [
    "teams, players = ['home', 'away'], ['team', 'reserves']\n",
    "dates = ['20170304', '20170305'] # Testing with two dates\n",
    "\n",
    "for date in dates:\n",
    "    matches = getMatchLinks(date)\n",
    "    \n",
    "    for match_link in matches:\n",
    "        match_s, player_s = getStatsLinks(match_link)\n",
    "    \n",
    "        regex = re.compile('gameId=([0-9]*)')\n",
    "        match_id = regex.findall(match_link)\n",
    "        \n",
    "        p_stats = getStats(player_s)\n",
    "    \n",
    "        for t in teams:\n",
    "            for p in players:\n",
    "                data = p_stats[\"gamePackage\"][\"matchLineUp\"][t][p]\n",
    "                for d in data:               \n",
    "                    placeholders, columns, vals = getPlayerVals(d)\n",
    "\n",
    "                    cur = conn.cursor()\n",
    "                    cur.execute(\"USE scraping\")\n",
    "\n",
    "                    # Execute the SQL to update the table\n",
    "                    sql_update = \"insert into p_stats (%s) values (%s)\" % (columns, placeholders)\n",
    "                    cur.execute(sql_update, vals)\n",
    "                    conn.commit()\n",
    "\n",
    "cur.close()\n",
    "conn.close()"
   ]
  },
  {
   "cell_type": "code",
   "execution_count": 10,
   "metadata": {
    "collapsed": true
   },
   "outputs": [
    {
     "ename": "Error",
     "evalue": "Already closed",
     "output_type": "error",
     "traceback": [
      "\u001b[0;31m---------------------------------------------------------------------------\u001b[0m",
      "\u001b[0;31mError\u001b[0m                                     Traceback (most recent call last)",
      "\u001b[0;32m<ipython-input-10-ad9842e8cd70>\u001b[0m in \u001b[0;36m<module>\u001b[0;34m()\u001b[0m\n\u001b[1;32m      1\u001b[0m \u001b[1;31m# Run this if the code fails to close the DB connection\u001b[0m\u001b[1;33m\u001b[0m\u001b[1;33m\u001b[0m\u001b[0m\n\u001b[1;32m      2\u001b[0m \u001b[0mcur\u001b[0m\u001b[1;33m.\u001b[0m\u001b[0mclose\u001b[0m\u001b[1;33m(\u001b[0m\u001b[1;33m)\u001b[0m\u001b[1;33m\u001b[0m\u001b[0m\n\u001b[0;32m----> 3\u001b[0;31m \u001b[0mconn\u001b[0m\u001b[1;33m.\u001b[0m\u001b[0mclose\u001b[0m\u001b[1;33m(\u001b[0m\u001b[1;33m)\u001b[0m\u001b[1;33m\u001b[0m\u001b[0m\n\u001b[0m",
      "\u001b[0;32mC:\\Users\\barne\\Anaconda3\\lib\\site-packages\\pymysql\\connections.py\u001b[0m in \u001b[0;36mclose\u001b[0;34m(self)\u001b[0m\n\u001b[1;32m    708\u001b[0m         \u001b[1;34m\"\"\"Send the quit message and close the socket\"\"\"\u001b[0m\u001b[1;33m\u001b[0m\u001b[0m\n\u001b[1;32m    709\u001b[0m         \u001b[1;32mif\u001b[0m \u001b[0mself\u001b[0m\u001b[1;33m.\u001b[0m\u001b[0m_sock\u001b[0m \u001b[1;32mis\u001b[0m \u001b[1;32mNone\u001b[0m\u001b[1;33m:\u001b[0m\u001b[1;33m\u001b[0m\u001b[0m\n\u001b[0;32m--> 710\u001b[0;31m             \u001b[1;32mraise\u001b[0m \u001b[0merr\u001b[0m\u001b[1;33m.\u001b[0m\u001b[0mError\u001b[0m\u001b[1;33m(\u001b[0m\u001b[1;34m\"Already closed\"\u001b[0m\u001b[1;33m)\u001b[0m\u001b[1;33m\u001b[0m\u001b[0m\n\u001b[0m\u001b[1;32m    711\u001b[0m         \u001b[0msend_data\u001b[0m \u001b[1;33m=\u001b[0m \u001b[0mstruct\u001b[0m\u001b[1;33m.\u001b[0m\u001b[0mpack\u001b[0m\u001b[1;33m(\u001b[0m\u001b[1;34m'<iB'\u001b[0m\u001b[1;33m,\u001b[0m \u001b[1;36m1\u001b[0m\u001b[1;33m,\u001b[0m \u001b[0mCOMMAND\u001b[0m\u001b[1;33m.\u001b[0m\u001b[0mCOM_QUIT\u001b[0m\u001b[1;33m)\u001b[0m\u001b[1;33m\u001b[0m\u001b[0m\n\u001b[1;32m    712\u001b[0m         \u001b[1;32mtry\u001b[0m\u001b[1;33m:\u001b[0m\u001b[1;33m\u001b[0m\u001b[0m\n",
      "\u001b[0;31mError\u001b[0m: Already closed"
     ]
    }
   ],
   "source": [
    "# Run this if the code fails to close the DB connection\n",
    "cur.close()\n",
    "conn.close()"
   ]
  }
 ],
 "metadata": {
  "anaconda-cloud": {},
  "kernelspec": {
   "display_name": "Python [default]",
   "language": "python",
   "name": "python3"
  },
  "language_info": {
   "codemirror_mode": {
    "name": "ipython",
    "version": 3
   },
   "file_extension": ".py",
   "mimetype": "text/x-python",
   "name": "python",
   "nbconvert_exporter": "python",
   "pygments_lexer": "ipython3",
   "version": "3.5.2"
  }
 },
 "nbformat": 4,
 "nbformat_minor": 1
}
