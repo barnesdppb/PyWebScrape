{
 "cells": [
  {
   "cell_type": "code",
   "execution_count": 115,
   "metadata": {
    "collapsed": false
   },
   "outputs": [
    {
     "data": {
      "text/plain": [
       "['/rugby/report?gameId=290088&league=267979',\n",
       " '/rugby/report?gameId=290089&league=267979',\n",
       " '/rugby/match?gameId=290364&league=270559',\n",
       " '/rugby/match?gameId=290363&league=270559',\n",
       " '/rugby/match?gameId=290366&league=270559',\n",
       " '/rugby/match?gameId=290365&league=270559',\n",
       " '/rugby/report?gameId=290524&league=270557',\n",
       " '/rugby/report?gameId=290520&league=270557',\n",
       " '/rugby/report?gameId=290523&league=270557',\n",
       " '/rugby/report?gameId=290786&league=242041',\n",
       " '/rugby/report?gameId=290785&league=242041',\n",
       " '/rugby/report?gameId=290784&league=242041',\n",
       " '/rugby/match?gameId=290783&league=242041',\n",
       " '/rugby/report?gameId=290782&league=242041',\n",
       " '/rugby/report?gameId=290781&league=242041']"
      ]
     },
     "execution_count": 115,
     "metadata": {},
     "output_type": "execute_result"
    }
   ],
   "source": [
    "from urllib.request import urlopen\n",
    "from bs4 import BeautifulSoup as bs\n",
    "import datetime\n",
    "import random\n",
    "import re\n",
    "import pprint\n",
    "import json\n",
    "\n",
    "def getMatchLinks (articleUrl):\n",
    "    html = urlopen(\"http://www.espn.co.uk/rugby/fixtures/_/date/\" + articleUrl)\n",
    "    bsObj = bs(html, \"lxml\")\n",
    "    tst = bsObj.find(\"section\", {\"id\":\"pane-main\"}).findAll(\"script\", {\"type\":\"text/javascript\"})\n",
    "    for t in tst:\n",
    "        json_text = re.search(r'^\\s*window\\.__INITIAL_STATE__\\s*=\\s*({.*?})\\s*;\\s*$',\n",
    "                      t.string, flags=re.DOTALL | re.MULTILINE).group(1)\n",
    "\n",
    "    json_out = json.loads(json_text)\n",
    "    \n",
    "    # Get just the match links\n",
    "    json_match = json_out['schedule']['groups']\n",
    "    matches = []\n",
    "    for m in json_match:\n",
    "        for c in m['complete']:\n",
    "            matches.append(c['result']['href'])\n",
    "            \n",
    "    return matches\n",
    "\n",
    "links = getMatchLinks('20170304')\n",
    "links"
   ]
  },
  {
   "cell_type": "code",
   "execution_count": 120,
   "metadata": {
    "collapsed": false
   },
   "outputs": [
    {
     "data": {
      "text/plain": [
       "['/rugby/match?gameId=290127&league=270555',\n",
       " '/rugby/match?gameId=290126&league=270555']"
      ]
     },
     "execution_count": 120,
     "metadata": {},
     "output_type": "execute_result"
    }
   ],
   "source": [
    "links = getMatchLinks('20160805')\n",
    "links"
   ]
  },
  {
   "cell_type": "code",
   "execution_count": 119,
   "metadata": {
    "collapsed": false
   },
   "outputs": [
    {
     "name": "stdout",
     "output_type": "stream",
     "text": [
      "/rugby/matchstats?gameId=290237&league=270559\n",
      "/rugby/playerstats?gameId=290237&league=270559\n"
     ]
    }
   ],
   "source": [
    "def getStatsLinks (articleUrl):\n",
    "    html = urlopen(\"http://www.espn.co.uk\" + articleUrl)\n",
    "    bsObj = bs(html, \"lxml\")\n",
    "    tst = bsObj.find(\"section\", {\"id\":\"pane-main\"}).findAll(\"script\", {\"type\":\"text/javascript\"})\n",
    "    \n",
    "    json_out = []\n",
    "    for t in tst:\n",
    "        json_text = re.search(r'^\\s*window\\.__INITIAL_STATE__\\s*=\\s*({.*?})\\s*;\\s*$',\n",
    "                          t.string, flags=re.DOTALL | re.MULTILINE).group(1)\n",
    "        json_out.append(json.loads(json_text))\n",
    "\n",
    "    for j in json_out[0]['gamePackage']['links']:\n",
    "        if j['pageType'] == 'matchstats':\n",
    "            match_s = j['href']\n",
    "        elif j['pageType'] == 'playerstats':\n",
    "            player_s = j['href']\n",
    "            \n",
    "    return match_s, player_s\n",
    "\n",
    "m, p = getStatsLinks(links[0])\n",
    "print(m)\n",
    "print(p)"
   ]
  },
  {
   "cell_type": "code",
   "execution_count": 122,
   "metadata": {
    "collapsed": true
   },
   "outputs": [],
   "source": [
    "html = urlopen(\"http://www.espn.co.uk\" + links[0])\n",
    "bsObj = bs(html, \"lxml\")\n",
    "tst = bsObj.find(\"section\", {\"id\":\"pane-main\"}).findAll(\"script\", {\"type\":\"text/javascript\"})"
   ]
  },
  {
   "cell_type": "code",
   "execution_count": null,
   "metadata": {
    "collapsed": true
   },
   "outputs": [],
   "source": []
  },
  {
   "cell_type": "code",
   "execution_count": 10,
   "metadata": {
    "collapsed": false
   },
   "outputs": [],
   "source": [
    "def getStats(statsUrl):\n",
    "    html = urlopen(\"http://www.espn.co.uk\" + statsUrl)\n",
    "    bsObj = bs(html, \"lxml\")  \n",
    "    tst = bsObj.find(\"section\", {\"id\":\"pane-main\"}).findAll(\"script\", {\"type\":\"text/javascript\"})\n",
    "    \n",
    "    stat_out = []\n",
    "    for t in tst:\n",
    "        json_text = re.search(r'^\\s*window\\.__INITIAL_STATE__\\s*=\\s*({.*?})\\s*;\\s*$',\n",
    "                              t.string, flags=re.DOTALL | re.MULTILINE).group(1)\n",
    "        stat_out.append(json.loads(json_text))\n",
    "        \n",
    "    return stat_out[0]\n",
    "\n",
    "tst = getStats('/rugby/playerstats?gameId=290088&league=267979')\n"
   ]
  },
  {
   "cell_type": "code",
   "execution_count": 13,
   "metadata": {
    "collapsed": false
   },
   "outputs": [
    {
     "name": "stdout",
     "output_type": "stream",
     "text": [
      "matchAwayForm\n",
      "links\n",
      "matchSummary\n",
      "matchDiscipline\n",
      "showGameDetailFooter\n",
      "meta\n",
      "matchDefending\n",
      "headToHead\n",
      "gameStateClass\n",
      "gameStrip\n",
      "matchCommentary\n",
      "article\n",
      "matchLineUp\n",
      "HeadToHeadNode\n",
      "matchHomeForm\n",
      "matchEvents\n",
      "news\n",
      "matchStats\n",
      "matchGlossary\n",
      "commentaryFeedback\n",
      "gameState\n",
      "matchDetails\n",
      "leagueUid\n",
      "polling\n",
      "standings\n",
      "analytics\n",
      "matchAttacking\n",
      "matchConversation\n"
     ]
    }
   ],
   "source": [
    "for t in tst['gamePackage']:\n",
    "    print(t)"
   ]
  },
  {
   "cell_type": "code",
   "execution_count": 36,
   "metadata": {
    "collapsed": false
   },
   "outputs": [
    {
     "data": {
      "text/plain": [
       "{'date': '04/03',\n",
       " 'gameState': 'final',\n",
       " 'header': 'Aviva Premiership 2017',\n",
       " 'isTeamLinkActive': True,\n",
       " 'network': '',\n",
       " 'target': '',\n",
       " 'teams': {'away': {'abbrev': 'WASPS',\n",
       "   'color': '000000',\n",
       "   'href': '/rugby/team/_/id/25905/wasps',\n",
       "   'id': '25905',\n",
       "   'logo': 'http://a1.espncdn.com/combiner/i?img=/i/teamlogos/rugby/teams/500/25905.png&h=42&w=42',\n",
       "   'name': 'Wasps',\n",
       "   'overDetails': '',\n",
       "   'record': '',\n",
       "   'runDetails': '24',\n",
       "   'score': '24',\n",
       "   'scoreMarkup': '24',\n",
       "   'scoreMarkupMobile': '24',\n",
       "   'trackingName': '&lpos=rugby:game:game:clubhouse:team',\n",
       "   'uid': 's:300~t:25905',\n",
       "   'winner': True},\n",
       "  'home': {'abbrev': 'BATH',\n",
       "   'color': '000099',\n",
       "   'href': '/rugby/team/_/id/25898/bath-rugby',\n",
       "   'id': '25898',\n",
       "   'logo': 'http://a1.espncdn.com/combiner/i?img=/i/teamlogos/rugby/teams/500/25898.png&h=42&w=42',\n",
       "   'name': 'Bath Rugby',\n",
       "   'overDetails': '',\n",
       "   'record': '',\n",
       "   'runDetails': '3',\n",
       "   'score': '3',\n",
       "   'scoreMarkup': '3',\n",
       "   'scoreMarkupMobile': '3',\n",
       "   'trackingName': '&lpos=rugby:game:game:clubhouse:team',\n",
       "   'uid': 's:300~t:25898',\n",
       "   'winner': False}},\n",
       " 'time': 'FT',\n",
       " 'winnerClass': 'team-b-winner',\n",
       " 'winnerClassMobile': 'cscore--away-winner'}"
      ]
     },
     "execution_count": 36,
     "metadata": {},
     "output_type": "execute_result"
    }
   ],
   "source": [
    "tst['gamePackage']['gameStrip']"
   ]
  },
  {
   "cell_type": "code",
   "execution_count": 37,
   "metadata": {
    "collapsed": false
   },
   "outputs": [
    {
     "name": "stdout",
     "output_type": "stream",
     "text": [
      "Home team:  Wasps\n",
      "Away team:  Bath\n",
      "Stadium:  Recreation Ground\n",
      "Date:  3:00 PM, March 4, 2017\n",
      "Competition:  Aviva Premiership 2017\n"
     ]
    }
   ],
   "source": [
    "# home team name from player stats\n",
    "home = tst['gamePackage']['matchEvents']['away']['name'].title()\n",
    "\n",
    "# Away team name from player stats:\n",
    "away = tst['gamePackage']['matchEvents']['home']['name'].title()\n",
    "\n",
    "# Stadium from player stats:\n",
    "ground = tst['gamePackage']['matchDetails']['venue']\n",
    "\n",
    "# Match date from player stats:\n",
    "dt = tst['gamePackage']['matchDetails']['date']\n",
    "\n",
    "# Competition from player stats:\n",
    "comp = tst['gamePackage']['gameStrip']['header']\n",
    "\n",
    "print (\"Home team: \", home)\n",
    "print (\"Away team: \", away)\n",
    "print(\"Stadium: \", ground)\n",
    "print(\"Date: \", dt)\n",
    "print(\"Competition: \", comp)"
   ]
  },
  {
   "cell_type": "code",
   "execution_count": 42,
   "metadata": {
    "collapsed": false
   },
   "outputs": [],
   "source": [
    "match = getStats('/rugby/matchstats?gameId=290088&league=267979')\n"
   ]
  },
  {
   "cell_type": "code",
   "execution_count": 41,
   "metadata": {
    "collapsed": true
   },
   "outputs": [
    {
     "name": "stdout",
     "output_type": "stream",
     "text": [
      "routing\n",
      "utils\n",
      "schedule\n",
      "news\n",
      "gamePackage\n",
      "standings\n",
      "clubhouse\n",
      "leagues\n",
      "page\n",
      "scoreboard\n"
     ]
    }
   ],
   "source": [
    "for m in match:\n",
    "    print(m)"
   ]
  },
  {
   "cell_type": "code",
   "execution_count": 43,
   "metadata": {
    "collapsed": false,
    "scrolled": true
   },
   "outputs": [
    {
     "name": "stdout",
     "output_type": "stream",
     "text": [
      "matchAwayForm\n",
      "links\n",
      "matchSummary\n",
      "matchDiscipline\n",
      "showGameDetailFooter\n",
      "meta\n",
      "matchDefending\n",
      "headToHead\n",
      "gameStateClass\n",
      "gameStrip\n",
      "matchCommentary\n",
      "article\n",
      "matchLineUp\n",
      "HeadToHeadNode\n",
      "matchHomeForm\n",
      "matchEvents\n",
      "news\n",
      "matchStats\n",
      "matchGlossary\n",
      "commentaryFeedback\n",
      "gameState\n",
      "matchDetails\n",
      "leagueUid\n",
      "polling\n",
      "standings\n",
      "analytics\n",
      "matchAttacking\n",
      "matchConversation\n"
     ]
    }
   ],
   "source": [
    "for m in match['gamePackage']:\n",
    "    print(m)"
   ]
  },
  {
   "cell_type": "code",
   "execution_count": 50,
   "metadata": {
    "collapsed": false
   },
   "outputs": [
    {
     "data": {
      "text/plain": [
       "{'address': '',\n",
       " 'attendance': '0',\n",
       " 'capacity': '11,700',\n",
       " 'coverage': '',\n",
       " 'date': '3:00 PM, March 4, 2017',\n",
       " 'percent': 0,\n",
       " 'text': {'attendance': 'Attendance',\n",
       "  'capacity': 'Capacity',\n",
       "  'coverage': 'Coverage',\n",
       "  'heading': 'Game Info',\n",
       "  'venue': 'Venue'},\n",
       " 'venue': 'Recreation Ground'}"
      ]
     },
     "execution_count": 50,
     "metadata": {},
     "output_type": "execute_result"
    }
   ],
   "source": [
    "match['gamePackage']['matchDetails']"
   ]
  },
  {
   "cell_type": "code",
   "execution_count": 97,
   "metadata": {
    "collapsed": false
   },
   "outputs": [
    {
     "name": "stdout",
     "output_type": "stream",
     "text": [
      "Home:         Bath\n",
      "Away:         Wasps\n",
      "Date string:  3:00 PM, March 4, 2017\n",
      "Date object:  2017-03-04 03:00:00\n",
      "Date only:    2017-03-04\n",
      "Year:         2017\n",
      "Month:        3\n",
      "Day:          4\n",
      "Time:         03:00:00\n",
      "Comp:         Aviva Premiership 2017\n"
     ]
    }
   ],
   "source": [
    "# Home team from match stats:\n",
    "h = match['gamePackage']['matchEvents']['home']['name'].title()\n",
    "# Away team from match stats:\n",
    "a = match['gamePackage']['matchEvents']['away']['name'].title()\n",
    "# Date from match stats:\n",
    "dt = match['gamePackage']['matchDetails']['date']\n",
    "# Get the date as a date object, from match stats:\n",
    "from datetime import datetime\n",
    "as_dt = datetime.strptime(dt, '%I:%M PM, %B %d, %Y')\n",
    "# Exract the date only poriton\n",
    "dt_only = as_dt.date()\n",
    "# Extract the time portion\n",
    "tm = as_dt.time()\n",
    "# Year only\n",
    "yr = as_dt.year\n",
    "# Month only\n",
    "mth = as_dt.month\n",
    "# Day only\n",
    "dy = as_dt.day\n",
    "# Competition from match stats\n",
    "comp = match['gamePackage']['gameStrip']['header']\n",
    "\n",
    "print(\"Home:        \", h)\n",
    "print(\"Away:        \", a)\n",
    "print(\"Date string: \", dt)\n",
    "print(\"Date object: \", as_dt)\n",
    "print(\"Date only:   \", dt_only)\n",
    "print(\"Year:        \", yr)\n",
    "print(\"Month:       \", mth)\n",
    "print(\"Day:         \", dy)\n",
    "print(\"Time:        \", tm)\n",
    "print(\"Comp:        \", comp)"
   ]
  },
  {
   "cell_type": "code",
   "execution_count": 69,
   "metadata": {
    "collapsed": false
   },
   "outputs": [],
   "source": [
    "# Parse out the date from the date string\n",
    "from datetime import datetime\n",
    "# dt_obj = datetime.strptime('Jun 1 2005  1:33PM', '%b %d %Y %I:%M%p')\n",
    "dt_obj = datetime.strptime('3:00 PM, March 4, 2017', '%I:%M PM, %B %d, %Y')"
   ]
  },
  {
   "cell_type": "code",
   "execution_count": 93,
   "metadata": {
    "collapsed": false
   },
   "outputs": [
    {
     "data": {
      "text/plain": [
       "'Aviva Premiership 2017'"
      ]
     },
     "execution_count": 93,
     "metadata": {},
     "output_type": "execute_result"
    }
   ],
   "source": [
    "match['gamePackage']['gameStrip']['header']\n"
   ]
  },
  {
   "cell_type": "code",
   "execution_count": 109,
   "metadata": {
    "collapsed": false
   },
   "outputs": [
    {
     "data": {
      "text/plain": [
       "['20130226', '20130227', '20130228', '20130301', '20130302']"
      ]
     },
     "execution_count": 109,
     "metadata": {},
     "output_type": "execute_result"
    }
   ],
   "source": [
    "# generate dates in yyyymmdd format\n",
    "r = pd.date_range('20130226','20130302')\n",
    "rf = r.format(formatter=lambda x: x.strftime('%Y%m%d'))\n",
    "rf\n"
   ]
  },
  {
   "cell_type": "code",
   "execution_count": 108,
   "metadata": {
    "collapsed": false
   },
   "outputs": [
    {
     "data": {
      "text/plain": [
       "['20130226', '20130227', '20130228', '20130301', '20130302']"
      ]
     },
     "execution_count": 108,
     "metadata": {},
     "output_type": "execute_result"
    }
   ],
   "source": []
  }
 ],
 "metadata": {
  "anaconda-cloud": {},
  "kernelspec": {
   "display_name": "Python [default]",
   "language": "python",
   "name": "python3"
  },
  "language_info": {
   "codemirror_mode": {
    "name": "ipython",
    "version": 3
   },
   "file_extension": ".py",
   "mimetype": "text/x-python",
   "name": "python",
   "nbconvert_exporter": "python",
   "pygments_lexer": "ipython3",
   "version": "3.5.2"
  }
 },
 "nbformat": 4,
 "nbformat_minor": 1
}
