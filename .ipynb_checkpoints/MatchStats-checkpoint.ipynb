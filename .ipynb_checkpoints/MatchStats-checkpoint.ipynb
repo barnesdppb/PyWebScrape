{
 "cells": [
  {
   "cell_type": "code",
   "execution_count": 1,
   "metadata": {
    "collapsed": false
   },
   "outputs": [
    {
     "data": {
      "text/html": [
       "<style>.container { width:80% !important; }</style>"
      ],
      "text/plain": [
       "<IPython.core.display.HTML object>"
      ]
     },
     "metadata": {},
     "output_type": "display_data"
    }
   ],
   "source": [
    "from IPython.core.display import display, HTML\n",
    "display(HTML(\"<style>.container { width:80% !important; }</style>\"))"
   ]
  },
  {
   "cell_type": "code",
   "execution_count": 2,
   "metadata": {
    "collapsed": false
   },
   "outputs": [],
   "source": [
    "from urllib.request import urlopen\n",
    "import urllib.request as req\n",
    "from bs4 import BeautifulSoup as bs\n",
    "import datetime\n",
    "import random\n",
    "import re\n",
    "import pprint\n",
    "import json\n",
    "\n",
    "\n",
    "def getMatchLinks (articleUrl):\n",
    "\n",
    "    html = urlopen(\"http://www.espn.co.uk/rugby/fixtures/_/date/\" + articleUrl)\n",
    "    bsObj = bs(html, \"lxml\")\n",
    "    tst = bsObj.find(\"section\", {\"id\":\"pane-main\"}).findAll(\"script\", {\"type\":\"text/javascript\"})\n",
    "    for t in tst:\n",
    "        json_text = re.search(r'^\\s*window\\.__INITIAL_STATE__\\s*=\\s*({.*?})\\s*;\\s*$',\n",
    "                      t.string, flags=re.DOTALL | re.MULTILINE).group(1)\n",
    "\n",
    "    json_out = json.loads(json_text)\n",
    "    \n",
    "    # Get just the match links\n",
    "    json_match = json_out['schedule']['groups']\n",
    "    matches = []\n",
    "    for m in json_match:\n",
    "        for c in m['complete']:\n",
    "            matches.append(c['result']['href'])\n",
    "            \n",
    "    return matches\n",
    "\n",
    "links = getMatchLinks('20170304')"
   ]
  },
  {
   "cell_type": "code",
   "execution_count": 3,
   "metadata": {
    "collapsed": false
   },
   "outputs": [
    {
     "name": "stdout",
     "output_type": "stream",
     "text": [
      "/rugby/matchstats?gameId=290088&league=267979\n",
      "/rugby/playerstats?gameId=290088&league=267979\n"
     ]
    }
   ],
   "source": [
    "def getStatsLinks (articleUrl):\n",
    "    \n",
    "    html = urlopen(\"http://www.espn.co.uk\" + articleUrl)\n",
    "    bsObj = bs(html, \"lxml\")\n",
    "    tst = bsObj.find(\"section\", {\"id\":\"pane-main\"}).findAll(\"script\", {\"type\":\"text/javascript\"})\n",
    "    \n",
    "    json_out = []\n",
    "    for t in tst:\n",
    "        json_text = re.search(r'^\\s*window\\.__INITIAL_STATE__\\s*=\\s*({.*?})\\s*;\\s*$',\n",
    "                          t.string, flags=re.DOTALL | re.MULTILINE).group(1)\n",
    "        json_out.append(json.loads(json_text))\n",
    "\n",
    "    for j in json_out[0]['gamePackage']['links']:\n",
    "        if j['pageType'] == 'matchstats':\n",
    "            match_s = j['href']\n",
    "        elif j['pageType'] == 'playerstats':\n",
    "            player_s = j['href']\n",
    "            \n",
    "    return match_s, player_s\n",
    "\n",
    "m, p = getStatsLinks(links[0])\n",
    "print(m)\n",
    "print(p)"
   ]
  },
  {
   "cell_type": "code",
   "execution_count": 5,
   "metadata": {
    "collapsed": false,
    "scrolled": true
   },
   "outputs": [],
   "source": [
    "def getStats(statsUrl):\n",
    "    \n",
    "    html = urlopen(\"http://www.espn.co.uk\" + statsUrl)\n",
    "    bsObj = bs(html, \"lxml\")  \n",
    "    tst = bsObj.find(\"section\", {\"id\":\"pane-main\"}).findAll(\"script\", {\"type\":\"text/javascript\"})\n",
    "    \n",
    "    stat_out = []\n",
    "    for t in tst:\n",
    "        json_text = re.search(r'^\\s*window\\.__INITIAL_STATE__\\s*=\\s*({.*?})\\s*;\\s*$',\n",
    "                              t.string, flags=re.DOTALL | re.MULTILINE).group(1)\n",
    "        stat_out.append(json.loads(json_text))\n",
    "        \n",
    "    return stat_out[0]"
   ]
  },
  {
   "cell_type": "code",
   "execution_count": 6,
   "metadata": {
    "collapsed": false,
    "scrolled": true
   },
   "outputs": [
    {
     "name": "stdout",
     "output_type": "stream",
     "text": [
      "matchHomeForm\n",
      "matchGlossary\n",
      "gameStateClass\n",
      "matchDefending\n",
      "analytics\n",
      "matchConversation\n",
      "links\n",
      "gameState\n",
      "showGameDetailFooter\n",
      "standings\n",
      "matchAttacking\n",
      "HeadToHeadNode\n",
      "matchCommentary\n",
      "matchSummary\n",
      "matchEvents\n",
      "matchDetails\n",
      "matchAwayForm\n",
      "matchLineUp\n",
      "headToHead\n",
      "article\n",
      "polling\n",
      "gameStrip\n",
      "leagueUid\n",
      "matchStats\n",
      "matchDiscipline\n",
      "commentaryFeedback\n",
      "news\n",
      "meta\n"
     ]
    }
   ],
   "source": [
    "tst = getStats('/rugby/matchstats?gameId=290088&league=267979')\n",
    "\n",
    "for t in tst['gamePackage']:\n",
    "    print(t)"
   ]
  },
  {
   "cell_type": "markdown",
   "metadata": {},
   "source": [
    "# ---------------------------------------------------------------------"
   ]
  },
  {
   "cell_type": "code",
   "execution_count": 7,
   "metadata": {
    "collapsed": false
   },
   "outputs": [
    {
     "data": {
      "text/plain": [
       "{'away_name': 'Wasps',\n",
       " 'away_score': 24,\n",
       " 'home_name': 'Bath Rugby',\n",
       " 'home_score': 3}"
      ]
     },
     "execution_count": 7,
     "metadata": {},
     "output_type": "execute_result"
    }
   ],
   "source": [
    "# Isolate match teams and score\n",
    "teams = ['home', 'away']\n",
    "vals = ['name', 'score']\n",
    "\n",
    "\n",
    "def getTeamsScore(teams, vals, data):\n",
    "    vals1 = {}\n",
    "    for t in teams:\n",
    "        for v in vals:\n",
    "            try:\n",
    "                vals1[t + '_' + v] = int(tst['gamePackage']['gameStrip']['teams'][t][v])\n",
    "            except ValueError:\n",
    "                vals1[t + '_' + v] = tst['gamePackage']['gameStrip']['teams'][t][v]\n",
    "\n",
    "    return vals1\n",
    "\n",
    "vals1 = getTeamsScore(teams, vals, tst)\n",
    "vals1"
   ]
  },
  {
   "cell_type": "markdown",
   "metadata": {},
   "source": [
    "# ---------------------------------------------------------------------"
   ]
  },
  {
   "cell_type": "code",
   "execution_count": 8,
   "metadata": {
    "collapsed": false
   },
   "outputs": [
    {
     "data": {
      "text/plain": [
       "{'away_conversion_goals': 3,\n",
       " 'away_kick_percent_success': 100,\n",
       " 'away_penalty_goals': 1,\n",
       " 'away_tries': 3,\n",
       " 'home_conversion_goals': 0,\n",
       " 'home_kick_percent_success': 100,\n",
       " 'home_penalty_goals': 1,\n",
       " 'home_tries': 0}"
      ]
     },
     "execution_count": 8,
     "metadata": {},
     "output_type": "execute_result"
    }
   ],
   "source": [
    "# Isolate tries/penalties/conversions/kick success\n",
    "teams = ['home', 'away']\n",
    "\n",
    "def getScores(teams, tst):\n",
    "    vals2 = {}\n",
    "    stats = tst['gamePackage']['matchEvents']['col'][0][0]['data']\n",
    "    for data in stats:\n",
    "        for d in data:\n",
    "            for t in teams:\n",
    "                if t in d:\n",
    "                    try:\n",
    "                        vals2[t + '_' + data['text'].lower().replace(\" \", \"_\")] = int(data[d].replace('%', ''))\n",
    "                    except ValueError:\n",
    "                        vals2[t + '_' + data['text'].lower().replace(\" \", \"_\")] = data[d]\n",
    "\n",
    "    return vals2\n",
    "\n",
    "vals2 = getScores(teams, tst)\n",
    "vals2"
   ]
  },
  {
   "cell_type": "code",
   "execution_count": 9,
   "metadata": {
    "collapsed": false
   },
   "outputs": [
    {
     "data": {
      "text/plain": [
       "{'away_metres_run': 591, 'home_metres_run': 381}"
      ]
     },
     "execution_count": 9,
     "metadata": {},
     "output_type": "execute_result"
    }
   ],
   "source": [
    "# isolate metres run\n",
    "teams = ['home', 'away']\n",
    "\n",
    "def metresRun(teams, tst):\n",
    "    vals3 = {}\n",
    "    data = tst['gamePackage']['matchEvents']['col'][1][0]['data']\n",
    "    for d in data:\n",
    "        for t in teams:\n",
    "            if t in d and 'Value' not in d:\n",
    "                try:\n",
    "                    vals3[t + '_' + data['text'].lower().replace(\" \", \"_\")] = int(data[d])\n",
    "                except ValueError:\n",
    "                    vals3[t + '_' + data['text'].lower().replace(\" \", \"_\")] = data[d]\n",
    "            \n",
    "    return vals3\n",
    "\n",
    "vals3 = metresRun(teams, tst)\n",
    "vals3"
   ]
  },
  {
   "cell_type": "code",
   "execution_count": 10,
   "metadata": {
    "collapsed": false
   },
   "outputs": [
    {
     "data": {
      "text/plain": [
       "{'away_kicks_from_hand': 34,\n",
       " 'away_passes': 173,\n",
       " 'away_runs': 133,\n",
       " 'home_kicks_from_hand': 32,\n",
       " 'home_passes': 158,\n",
       " 'home_runs': 101}"
      ]
     },
     "execution_count": 10,
     "metadata": {},
     "output_type": "execute_result"
    }
   ],
   "source": [
    "# isolate kick/pass/run\n",
    "teams = ['home', 'away']\n",
    "\n",
    "def kpr(teams, tst):\n",
    "    vals4 = {}\n",
    "    stats = tst['gamePackage']['matchEvents']['col'][1][1]['data']\n",
    "    for data in stats:\n",
    "        for d in data:\n",
    "            for t in teams:\n",
    "                if t in d:\n",
    "                    try:\n",
    "                        vals4[t + '_' + data['text'].lower().replace(\" \", \"_\")] = int(data[d])\n",
    "                    except ValueError:\n",
    "                        vals4[t + '_' + data['text'].lower().replace(\" \", \"_\")] = data[d]\n",
    "                   \n",
    "    return vals4\n",
    "\n",
    "vals4 = kpr(teams, tst)\n",
    "vals4"
   ]
  },
  {
   "cell_type": "markdown",
   "metadata": {},
   "source": [
    "# ---------------------------------------------------------------------"
   ]
  },
  {
   "cell_type": "code",
   "execution_count": 11,
   "metadata": {
    "collapsed": false
   },
   "outputs": [
    {
     "data": {
      "text/plain": [
       "{'away_possession': 49,\n",
       " 'away_territory': 56,\n",
       " 'home_possession': 50,\n",
       " 'home_territory': 43}"
      ]
     },
     "execution_count": 11,
     "metadata": {},
     "output_type": "execute_result"
    }
   ],
   "source": [
    "# Isolate territory and possession overall full match stats\n",
    "teams = ['home', 'away']\n",
    "\n",
    "def terrPoss(teams, tst):\n",
    "    vals5 = {}\n",
    "    stats = tst['gamePackage']['matchStats']['dataVis']\n",
    "    for data in stats:\n",
    "        for d in data:\n",
    "            for t in teams:\n",
    "                if t in d and 'Value' in d:\n",
    "                    try:\n",
    "                        vals5[t + '_' + data['text'].lower().replace(\" \", \"_\")] = int(data[d])\n",
    "                    except ValueError:\n",
    "                        vals5[t + '_' + data['text'].lower().replace(\" \", \"_\")] = data[d]\n",
    "                \n",
    "    return vals5\n",
    "\n",
    "vals5 = terrPoss(teams, tst)\n",
    "vals5"
   ]
  },
  {
   "cell_type": "code",
   "execution_count": 12,
   "metadata": {
    "collapsed": false
   },
   "outputs": [
    {
     "data": {
      "text/plain": [
       "{'away_clean_breaks': 12,\n",
       " 'away_metres_run': 591,\n",
       " 'away_missed_tackles': 15,\n",
       " 'away_runs': 133,\n",
       " 'away_tackles': 105,\n",
       " 'away_turnover_knock_on': 20,\n",
       " 'home_clean_breaks': 6,\n",
       " 'home_metres_run': 381,\n",
       " 'home_missed_tackles': 24,\n",
       " 'home_runs': 101,\n",
       " 'home_tackles': 124,\n",
       " 'home_turnover_knock_on': 21}"
      ]
     },
     "execution_count": 12,
     "metadata": {},
     "output_type": "execute_result"
    }
   ],
   "source": [
    "# isolate runs/metres/clean breaks/tackles/missed tackles/turnovers\n",
    "\n",
    "teams = ['home', 'away']\n",
    "def genStats(teams, tst):\n",
    "    vals6 = {}\n",
    "    stats = tst['gamePackage']['matchStats']['table']\n",
    "    for data in stats:\n",
    "        for d in data:\n",
    "            for t in teams:\n",
    "                if t in d:\n",
    "                    try:\n",
    "                        vals6[t + '_' + data['text'].lower().replace(\" \", \"_\")] = int(data[d])\n",
    "                    except ValueError:\n",
    "                        vals6[t + '_' + data['text'].lower().replace(\" \", \"_\")] = data[d]\n",
    "                \n",
    "    return vals6\n",
    "\n",
    "vals6 = genStats(teams, tst)\n",
    "vals6"
   ]
  },
  {
   "cell_type": "markdown",
   "metadata": {},
   "source": [
    "# ---------------------------------------------------------------------"
   ]
  },
  {
   "cell_type": "code",
   "execution_count": 13,
   "metadata": {
    "collapsed": false
   },
   "outputs": [
    {
     "data": {
      "text/plain": [
       "{'away_possession_1H': 56,\n",
       " 'away_possession_2H': 40,\n",
       " 'away_territory_1H': 64,\n",
       " 'away_territory_2H': 49,\n",
       " 'home_possession_1H': 43,\n",
       " 'home_possession_2H': 58,\n",
       " 'home_territory_1H': 34,\n",
       " 'home_territory_2H': 50}"
      ]
     },
     "execution_count": 13,
     "metadata": {},
     "output_type": "execute_result"
    }
   ],
   "source": [
    "# Isolate the possession and territory values for first and second half\n",
    "teams_key = ['homeValue', 'awayValue']\n",
    "teams = ['home', 'away']\n",
    "stats = ['possession', 'territory']\n",
    "\n",
    "def possTerrHalfs(teams, teams_key, stats, tst):\n",
    "    idx, vals7 = [0, 1], {}\n",
    "    for j in idx:\n",
    "        if stats[j] in tst['gamePackage']['matchAttacking']['col'][1][0]['data'][j]['text'].lower():\n",
    "            for t in teams_key:\n",
    "                for i in range(2):\n",
    "                    vals7[teams[teams_key.index(t)] + '_' + stats[j] + '_' + tst['gamePackage']['matchAttacking']['col'][1][0]['data'][j]['text']\n",
    "                        .split(\" \")[1].split(\"/\")[i]] = int(tst['gamePackage']['matchAttacking']['col'][1][0]['data'][j][t]\n",
    "                                                            .split(\"/\")[i].replace(\"%\", \"\")) \n",
    "\n",
    "\n",
    "    return vals7\n",
    "\n",
    "vals7 = possTerrHalfs(teams, teams_key, stats, tst)\n",
    "vals7"
   ]
  },
  {
   "cell_type": "code",
   "execution_count": 14,
   "metadata": {
    "collapsed": false
   },
   "outputs": [
    {
     "data": {
      "text/plain": [
       "{'away_clean_breaks': 12,\n",
       " 'away_defenders_beaten': 24,\n",
       " 'away_offload': 11,\n",
       " 'away_turnovers_conceded': 20,\n",
       " 'home_clean_breaks': 6,\n",
       " 'home_defenders_beaten': 15,\n",
       " 'home_offload': 5,\n",
       " 'home_turnovers_conceded': 21}"
      ]
     },
     "execution_count": 14,
     "metadata": {},
     "output_type": "execute_result"
    }
   ],
   "source": [
    "# Isolate clean breaks/defenders beaten/turnovers conceded/offloads\n",
    "teams_key = ['homeValue', 'awayValue']\n",
    "teams = ['home', 'away']\n",
    "stats = ['Clean Breaks', 'Defenders Beaten', 'Turnovers Conceded', 'Offload']\n",
    "\n",
    "\n",
    "def attackStats(teams_key, teams, stats, tst):\n",
    "    vals8 = {}\n",
    "    for data in tst['gamePackage']['matchAttacking']['col'][1][0]['data']:\n",
    "        if data['text'] in stats:\n",
    "            for d in data:\n",
    "                if d in teams_key:\n",
    "                    try:\n",
    "                        vals8[teams[teams_key.index(d)] + \"_\" + data['text'].lower().replace(\" \", \"_\")] = int(data[d])\n",
    "                    except ValueError:\n",
    "                        vals8[teams[teams_key.index(d)] + \"_\" + data['text'].lower().replace(\" \", \"_\")] = data[d]\n",
    "\n",
    "    return vals8\n",
    "\n",
    "vals8 = attackStats(teams_key, teams, stats, tst)\n",
    "vals8"
   ]
  },
  {
   "cell_type": "code",
   "execution_count": 15,
   "metadata": {
    "collapsed": false
   },
   "outputs": [
    {
     "data": {
      "text/plain": [
       "{'away_mauls_pct_won': 100,\n",
       " 'away_mauls_tot': 2,\n",
       " 'away_mauls_won': 2,\n",
       " 'away_rucks_pct_won': 97,\n",
       " 'away_rucks_tot': 85,\n",
       " 'away_rucks_won': 83,\n",
       " 'home_mauls_pct_won': 60,\n",
       " 'home_mauls_tot': 5,\n",
       " 'home_mauls_won': 3,\n",
       " 'home_rucks_pct_won': 93,\n",
       " 'home_rucks_tot': 77,\n",
       " 'home_rucks_won': 72}"
      ]
     },
     "execution_count": 15,
     "metadata": {},
     "output_type": "execute_result"
    }
   ],
   "source": [
    "# Isolate rucks and mauls won, data structure a lot more complex than the others\n",
    "stats = ['Rucks Won', 'Mauls Won']\n",
    "teams_key = ['homeValue', 'awayValue']\n",
    "\n",
    "names = {'Rucks Won' : {'homeValue' : ['home_rucks_won', 'home_rucks_tot', 'home_rucks_pct_won'],\n",
    "                        'awayValue' : ['away_rucks_won', 'away_rucks_tot', 'away_rucks_pct_won']},\n",
    "         'Mauls Won' : {'homeValue' : ['home_mauls_won', 'home_mauls_tot', 'home_mauls_pct_won'],\n",
    "                        'awayValue' : ['away_mauls_won', 'away_mauls_tot', 'away_mauls_pct_won']} }\n",
    "\n",
    "\n",
    "def rucksMauls(stats, teams_key, names, tst):\n",
    "    vals9 = {}\n",
    "    for t in teams_key:\n",
    "        for data in tst['gamePackage']['matchAttacking']['col'][1][0]['data']:\n",
    "            if data['text'] in stats:\n",
    "                foo1 = data[t].split(\"(\")\n",
    "                foo2 = foo1[0].split('/')\n",
    "                foo2.append(foo1[-1])\n",
    "                foo2 = [int(re.sub('[^0-9]','', f)) for f in foo2]\n",
    "                foo3 = dict(zip(names[data['text']][t], foo2))\n",
    "                vals9 = {**vals9, **foo3}\n",
    "\n",
    "    return vals9\n",
    "\n",
    "vals9 = rucksMauls(stats, teams_key, names, tst)\n",
    "vals9"
   ]
  },
  {
   "cell_type": "markdown",
   "metadata": {},
   "source": [
    "# ---------------------------------------------------------------------"
   ]
  },
  {
   "cell_type": "code",
   "execution_count": 16,
   "metadata": {
    "collapsed": false
   },
   "outputs": [
    {
     "data": {
      "text/plain": [
       "{'awayTotal_Lineouts': 8,\n",
       " 'awayTotal_Scrums': 9,\n",
       " 'awayWon_Lineouts': 5,\n",
       " 'awayWon_Scrums': 9,\n",
       " 'homeTotal_Lineouts': 16,\n",
       " 'homeTotal_Scrums': 12,\n",
       " 'homeWon_Lineouts': 14,\n",
       " 'homeWon_Scrums': 12}"
      ]
     },
     "execution_count": 16,
     "metadata": {},
     "output_type": "execute_result"
    }
   ],
   "source": [
    "# Get scrums and lineouts, need to remove the _Won from all the strings\n",
    "stats = ['Scrums Won', 'Lineouts Won']\n",
    "\n",
    "def scrumLineout(stats, tst):\n",
    "    foo, vals10 = {}, {}\n",
    "    for i in range(2):\n",
    "        data = tst['gamePackage']['matchDefending']['col'][0][i]['data']\n",
    "        if data['text'] in stats:\n",
    "            for d in data:\n",
    "                if d != 'text':\n",
    "                    foo[d + '_' + data['text'].replace(' ', '_')] = data[d]\n",
    "\n",
    "    for f in foo:\n",
    "        new_f = f.strip('_Won')\n",
    "        vals10[new_f] = int(foo[f])\n",
    "\n",
    "    return vals10\n",
    "    \n",
    "vals10 = scrumLineout(stats, tst)\n",
    "vals10"
   ]
  },
  {
   "cell_type": "markdown",
   "metadata": {},
   "source": [
    "# ---------------------------------------------------------------------"
   ]
  },
  {
   "cell_type": "code",
   "execution_count": 17,
   "metadata": {
    "collapsed": false
   },
   "outputs": [
    {
     "data": {
      "text/plain": [
       "{'away_free_kicks_conceded': 1,\n",
       " 'away_penalties_conceded': 9,\n",
       " 'away_red_cards': 0,\n",
       " 'away_yellow_cards': 0,\n",
       " 'home_free_kicks_conceded': 1,\n",
       " 'home_penalties_conceded': 6,\n",
       " 'home_red_cards': 0,\n",
       " 'home_yellow_cards': 0}"
      ]
     },
     "execution_count": 17,
     "metadata": {},
     "output_type": "execute_result"
    }
   ],
   "source": [
    "# isolate discipline stats, cards, penalties, free kicks\n",
    "teams = ['homeValue', 'homeTotal', 'awayValue', 'awayTotal']\n",
    "vals = ['penalties_conceded', 'red_cards', 'yellow_cards', 'free_kicks_conceded']\n",
    "\n",
    "def discipline(tames, vals, tst):\n",
    "    data, vals11 = [], {}\n",
    "    for i in range(2):\n",
    "        stats = tst['gamePackage']['matchDiscipline']['col'][i][0]['data']\n",
    "        if type(stats) is list:\n",
    "            for j in range(len(stats)):\n",
    "                data.append(stats[j])\n",
    "        else:\n",
    "            data.append(stats)\n",
    "\n",
    "    for t in teams:\n",
    "        for i in range(len(data)):\n",
    "            try:\n",
    "                vals11[t.replace('Value', '').replace('Total', '') + '_' + vals[i]] = int(data[i][t])\n",
    "            except KeyError:\n",
    "                continue\n",
    "\n",
    "    return vals11\n",
    "\n",
    "vals11 = discipline(teams, vals, tst)\n",
    "vals11"
   ]
  },
  {
   "cell_type": "code",
   "execution_count": 18,
   "metadata": {
    "collapsed": false,
    "scrolled": true
   },
   "outputs": [
    {
     "data": {
      "text/plain": [
       "{'awayTotal_Lineouts': 8,\n",
       " 'awayTotal_Scrums': 9,\n",
       " 'awayWon_Lineouts': 5,\n",
       " 'awayWon_Scrums': 9,\n",
       " 'away_clean_breaks': 12,\n",
       " 'away_conversion_goals': 3,\n",
       " 'away_defenders_beaten': 24,\n",
       " 'away_free_kicks_conceded': 1,\n",
       " 'away_kick_percent_success': 100,\n",
       " 'away_kicks_from_hand': 34,\n",
       " 'away_mauls_pct_won': 100,\n",
       " 'away_mauls_tot': 2,\n",
       " 'away_mauls_won': 2,\n",
       " 'away_metres_run': 591,\n",
       " 'away_missed_tackles': 15,\n",
       " 'away_name': 'Wasps',\n",
       " 'away_offload': 11,\n",
       " 'away_passes': 173,\n",
       " 'away_penalties_conceded': 9,\n",
       " 'away_penalty_goals': 1,\n",
       " 'away_possession': 49,\n",
       " 'away_possession_1H': 56,\n",
       " 'away_possession_2H': 40,\n",
       " 'away_red_cards': 0,\n",
       " 'away_rucks_pct_won': 97,\n",
       " 'away_rucks_tot': 85,\n",
       " 'away_rucks_won': 83,\n",
       " 'away_runs': 133,\n",
       " 'away_score': 24,\n",
       " 'away_tackles': 105,\n",
       " 'away_territory': 56,\n",
       " 'away_territory_1H': 64,\n",
       " 'away_territory_2H': 49,\n",
       " 'away_tries': 3,\n",
       " 'away_turnover_knock_on': 20,\n",
       " 'away_turnovers_conceded': 20,\n",
       " 'away_yellow_cards': 0,\n",
       " 'homeTotal_Lineouts': 16,\n",
       " 'homeTotal_Scrums': 12,\n",
       " 'homeWon_Lineouts': 14,\n",
       " 'homeWon_Scrums': 12,\n",
       " 'home_clean_breaks': 6,\n",
       " 'home_conversion_goals': 0,\n",
       " 'home_defenders_beaten': 15,\n",
       " 'home_free_kicks_conceded': 1,\n",
       " 'home_kick_percent_success': 100,\n",
       " 'home_kicks_from_hand': 32,\n",
       " 'home_mauls_pct_won': 60,\n",
       " 'home_mauls_tot': 5,\n",
       " 'home_mauls_won': 3,\n",
       " 'home_metres_run': 381,\n",
       " 'home_missed_tackles': 24,\n",
       " 'home_name': 'Bath Rugby',\n",
       " 'home_offload': 5,\n",
       " 'home_passes': 158,\n",
       " 'home_penalties_conceded': 6,\n",
       " 'home_penalty_goals': 1,\n",
       " 'home_possession': 50,\n",
       " 'home_possession_1H': 43,\n",
       " 'home_possession_2H': 58,\n",
       " 'home_red_cards': 0,\n",
       " 'home_rucks_pct_won': 93,\n",
       " 'home_rucks_tot': 77,\n",
       " 'home_rucks_won': 72,\n",
       " 'home_runs': 101,\n",
       " 'home_score': 3,\n",
       " 'home_tackles': 124,\n",
       " 'home_territory': 43,\n",
       " 'home_territory_1H': 34,\n",
       " 'home_territory_2H': 50,\n",
       " 'home_tries': 0,\n",
       " 'home_turnover_knock_on': 21,\n",
       " 'home_turnovers_conceded': 21,\n",
       " 'home_yellow_cards': 0}"
      ]
     },
     "execution_count": 18,
     "metadata": {},
     "output_type": "execute_result"
    }
   ],
   "source": [
    "all_stats = {**vals1, **vals2, **vals3, **vals4, **vals5, **vals6,\n",
    "                **vals7, **vals8, **vals9, **vals10, **vals11,}    \n",
    "all_stats"
   ]
  },
  {
   "cell_type": "code",
   "execution_count": 19,
   "metadata": {
    "collapsed": false
   },
   "outputs": [],
   "source": [
    "# Set up the connection\n",
    "import pymysql\n",
    "conn = pymysql.connect(host = '127.0.0.1', port = 3306,\n",
    "                       user = 'root', passwd = 'the2Lora', db = 'mysql')\n",
    "\n",
    "cur = conn.cursor()"
   ]
  },
  {
   "cell_type": "code",
   "execution_count": 26,
   "metadata": {
    "collapsed": false
   },
   "outputs": [],
   "source": [
    "# query to create the table in MySQL - this will need a match and player identifier\n",
    "sql = \"\"\"drop table if exists scraping.m_stats;\n",
    "        create table m_stats( id bigint(10) not null auto_increment\n",
    "                            , match_id varchar(20) not null\n",
    "                            , home_name varchar(100) not null\n",
    "                            , away_name varchar(100) not null\n",
    "                            , awayTotal_Lineouts bigint(10) \n",
    "                            , awayTotal_Scrums bigint(10) \n",
    "                            , awayWon_Lineouts bigint(10) \n",
    "                            , awayWon_Scrums bigint(10) \n",
    "                            , away_clean_breaks bigint(10) \n",
    "                            , away_conversion_goals bigint(10) \n",
    "                            , away_defenders_beaten bigint(10) \n",
    "                            , away_free_kicks_conceded bigint(10) \n",
    "                            , away_kick_percent_success bigint(10)\n",
    "                            , away_kicks_from_hand bigint(10)\n",
    "                            , away_mauls_pct_won bigint(10)\n",
    "                            , away_mauls_tot bigint(10)\n",
    "                            , away_mauls_won bigint(10)\n",
    "                            , away_metres_run bigint(10)\n",
    "                            , away_missed_tackles bigint(10)\n",
    "                            , away_offload bigint(10)\n",
    "                            , away_passes bigint(10)\n",
    "                            , away_penalties_conceded bigint(10)\n",
    "                            , away_penalty_goals bigint(10)\n",
    "                            , away_possession bigint(10)\n",
    "                            , away_possession_1H bigint(10)\n",
    "                            , away_possession_2H bigint(10)\n",
    "                            , away_red_cards bigint(10)\n",
    "                            , away_rucks_pct_won bigint(10)\n",
    "                            , away_rucks_tot bigint(10)\n",
    "                            , away_rucks_won bigint(10)\n",
    "                            , away_runs bigint(10)\n",
    "                            , away_score bigint(10)\n",
    "                            , away_tackles bigint(10)\n",
    "                            , away_territory bigint(10)\n",
    "                            , away_territory_1H bigint(10) \n",
    "                            , away_territory_2H bigint(10)\n",
    "                            , away_tries bigint(10)\n",
    "                            , away_turnover_knock_on bigint(10)\n",
    "                            , away_turnovers_conceded bigint(10)\n",
    "                            , away_yellow_cards bigint(10)\n",
    "                            , homeTotal_Lineouts bigint(10) \n",
    "                            , homeTotal_Scrums bigint(10) \n",
    "                            , homeWon_Lineouts bigint(10) \n",
    "                            , homeWon_Scrums bigint(10) \n",
    "                            , home_clean_breaks bigint(10) \n",
    "                            , home_conversion_goals bigint(10) \n",
    "                            , home_defenders_beaten bigint(10) \n",
    "                            , home_free_kicks_conceded bigint(10) \n",
    "                            , home_kick_percent_success bigint(10)\n",
    "                            , home_kicks_from_hand bigint(10)\n",
    "                            , home_mauls_pct_won bigint(10)\n",
    "                            , home_mauls_tot bigint(10)\n",
    "                            , home_mauls_won bigint(10)\n",
    "                            , home_metres_run bigint(10)\n",
    "                            , home_missed_tackles bigint(10)\n",
    "                            , home_offload bigint(10)\n",
    "                            , home_passes bigint(10)\n",
    "                            , home_penalties_conceded bigint(10)\n",
    "                            , home_penalty_goals bigint(10)\n",
    "                            , home_possession bigint(10)\n",
    "                            , home_possession_1H bigint(10)\n",
    "                            , home_possession_2H bigint(10)\n",
    "                            , home_red_cards bigint(10)\n",
    "                            , home_rucks_pct_won bigint(10)\n",
    "                            , home_rucks_tot bigint(10)\n",
    "                            , home_rucks_won bigint(10)\n",
    "                            , home_runs bigint(10)\n",
    "                            , home_score bigint(10)\n",
    "                            , home_tackles bigint(10)\n",
    "                            , home_territory bigint(10)\n",
    "                            , home_territory_1H bigint(10) \n",
    "                            , home_territory_2H bigint(10)\n",
    "                            , home_tries bigint(10)\n",
    "                            , home_turnover_knock_on bigint(10)\n",
    "                            , home_turnovers_conceded bigint(10)\n",
    "                            , home_yellow_cards bigint(10)\n",
    "                            , primary key(id));\"\"\".replace(\"\\n\", \"\")\n",
    "\n",
    "# Run this first to set up connection drop the table, and create again before putting more data into it\n",
    "cur.execute(\"USE scraping\")\n",
    "cur.execute(sql)\n",
    "conn.commit()"
   ]
  },
  {
   "cell_type": "code",
   "execution_count": 21,
   "metadata": {
    "collapsed": false
   },
   "outputs": [
    {
     "data": {
      "text/plain": [
       "'home_turnover_knock_on, home_kicks_from_hand, home_offload, away_defenders_beaten, home_mauls_pct_won, away_red_cards, homeTotal_Scrums, away_kicks_from_hand, awayTotal_Scrums, home_free_kicks_conceded, home_penalty_goals, home_possession, away_offload, away_mauls_tot, home_territory, home_conversion_goals, awayWon_Lineouts, away_penalty_goals, home_mauls_tot, homeWon_Lineouts, away_turnover_knock_on, home_runs, away_penalties_conceded, homeTotal_Lineouts, home_rucks_won, home_tackles, home_metres_run, away_possession, away_territory_1H, away_mauls_won, away_rucks_won, home_mauls_won, home_name, away_turnovers_conceded, away_metres_run, home_rucks_pct_won, home_penalties_conceded, home_possession_2H, away_possession_2H, away_territory_2H, away_rucks_pct_won, home_kick_percent_success, away_yellow_cards, away_conversion_goals, home_score, home_territory_2H, home_tries, away_clean_breaks, away_territory, home_possession_1H, home_defenders_beaten, home_territory_1H, away_mauls_pct_won, awayTotal_Lineouts, away_tries, homeWon_Scrums, home_passes, home_clean_breaks, away_rucks_tot, home_turnovers_conceded, home_red_cards, away_kick_percent_success, away_score, away_passes, home_missed_tackles, away_possession_1H, awayWon_Scrums, away_runs, away_name, away_free_kicks_conceded, home_yellow_cards, away_tackles, home_rucks_tot, away_missed_tackles'"
      ]
     },
     "execution_count": 21,
     "metadata": {},
     "output_type": "execute_result"
    }
   ],
   "source": [
    "cols = ''\n",
    "for a in all_stats:\n",
    "    cols = cols + a + ', '\n",
    "    \n",
    "cols = cols[:-2]\n",
    "cols"
   ]
  },
  {
   "cell_type": "code",
   "execution_count": 22,
   "metadata": {
    "collapsed": false
   },
   "outputs": [
    {
     "data": {
      "text/plain": [
       "'match_id, home_turnover_knock_on, home_kicks_from_hand, home_offload, away_defenders_beaten, home_mauls_pct_won, away_red_cards, homeTotal_Scrums, away_kicks_from_hand, awayTotal_Scrums, home_free_kicks_conceded, home_penalty_goals, home_possession, away_offload, away_mauls_tot, home_territory, home_conversion_goals, awayWon_Lineouts, away_penalty_goals, home_mauls_tot, homeWon_Lineouts, away_turnover_knock_on, home_runs, away_penalties_conceded, homeTotal_Lineouts, home_rucks_won, home_tackles, home_metres_run, away_possession, away_territory_1H, away_mauls_won, away_rucks_won, home_mauls_won, home_name, away_turnovers_conceded, away_metres_run, home_rucks_pct_won, home_penalties_conceded, home_possession_2H, away_possession_2H, away_territory_2H, away_rucks_pct_won, home_kick_percent_success, away_yellow_cards, away_conversion_goals, home_score, home_territory_2H, home_tries, away_clean_breaks, away_territory, home_possession_1H, home_defenders_beaten, home_territory_1H, away_mauls_pct_won, awayTotal_Lineouts, away_tries, homeWon_Scrums, home_passes, home_clean_breaks, away_rucks_tot, home_turnovers_conceded, home_red_cards, away_kick_percent_success, away_score, away_passes, home_missed_tackles, away_possession_1H, awayWon_Scrums, away_runs, away_name, away_free_kicks_conceded, home_yellow_cards, away_tackles, home_rucks_tot, away_missed_tackles'"
      ]
     },
     "execution_count": 22,
     "metadata": {},
     "output_type": "execute_result"
    }
   ],
   "source": [
    "cols = 'match_id, ' + cols\n",
    "cols"
   ]
  },
  {
   "cell_type": "code",
   "execution_count": 28,
   "metadata": {
    "collapsed": false
   },
   "outputs": [
    {
     "data": {
      "text/plain": [
       "['290088']"
      ]
     },
     "execution_count": 28,
     "metadata": {},
     "output_type": "execute_result"
    }
   ],
   "source": [
    "match_link = links[0]\n",
    "regex = re.compile('gameId=([0-9]*)')\n",
    "match_id = regex.findall(match_link)\n",
    "match_id"
   ]
  },
  {
   "cell_type": "code",
   "execution_count": 29,
   "metadata": {
    "collapsed": false
   },
   "outputs": [
    {
     "name": "stdout",
     "output_type": "stream",
     "text": [
      "['match_id', 'home_turnover_knock_on', 'home_kicks_from_hand', 'home_offload', 'away_defenders_beaten'] ['290088', 21, 32, 5, 24]\n"
     ]
    }
   ],
   "source": [
    "columns, vals = ['match_id'], [match_id[0]]\n",
    "for a in all_stats:\n",
    "    columns.append(a)\n",
    "    vals.append(all_stats[a])\n",
    "    \n",
    "print(columns[0:5], vals[0:5])"
   ]
  },
  {
   "cell_type": "code",
   "execution_count": 30,
   "metadata": {
    "collapsed": false
   },
   "outputs": [
    {
     "data": {
      "text/plain": [
       "'%s, %s, %s, %s, %s, %s, %s, %s, %s, %s, %s, %s, %s, %s, %s, %s, %s, %s, %s, %s, %s, %s, %s, %s, %s, %s, %s, %s, %s, %s, %s, %s, %s, %s, %s, %s, %s, %s, %s, %s, %s, %s, %s, %s, %s, %s, %s, %s, %s, %s, %s, %s, %s, %s, %s, %s, %s, %s, %s, %s, %s, %s, %s, %s, %s, %s, %s, %s, %s, %s, %s, %s, %s, %s, %s'"
      ]
     },
     "execution_count": 30,
     "metadata": {},
     "output_type": "execute_result"
    }
   ],
   "source": [
    "placeholders = ', '.join(['%s'] * len(columns))\n",
    "placeholders"
   ]
  },
  {
   "cell_type": "code",
   "execution_count": 31,
   "metadata": {
    "collapsed": false
   },
   "outputs": [],
   "source": [
    "cur.execute(\"USE scraping;\")\n",
    "\n",
    "# Execute the SQL to update the table\n",
    "sql_update = \"insert into m_stats (%s) values (%s);\" % (cols, placeholders)\n",
    "cur.execute(sql_update, vals)\n",
    "conn.commit()"
   ]
  },
  {
   "cell_type": "code",
   "execution_count": 32,
   "metadata": {
    "collapsed": true
   },
   "outputs": [],
   "source": [
    "cur.close()\n",
    "conn.close()"
   ]
  }
 ],
 "metadata": {
  "anaconda-cloud": {},
  "kernelspec": {
   "display_name": "Python [default]",
   "language": "python",
   "name": "python3"
  },
  "language_info": {
   "codemirror_mode": {
    "name": "ipython",
    "version": 3
   },
   "file_extension": ".py",
   "mimetype": "text/x-python",
   "name": "python",
   "nbconvert_exporter": "python",
   "pygments_lexer": "ipython3",
   "version": "3.5.2"
  }
 },
 "nbformat": 4,
 "nbformat_minor": 1
}
