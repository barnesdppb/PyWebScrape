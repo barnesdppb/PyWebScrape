{
 "cells": [
  {
   "cell_type": "code",
   "execution_count": 17,
   "metadata": {
    "collapsed": true
   },
   "outputs": [],
   "source": [
    "# query to create the table in MySQL - this will need a match and player identifier\n",
    "sql = \"\"\"drop table if exists scraping.p_stats;\n",
    "        create table p_stats( row_nk varchar(50) not null\n",
    "                            , player_id bigint(7) not null\n",
    "                            , match_id varchar(20) not null\n",
    "                            , match_date varchar(20)\n",
    "                            , name varchar(200)\n",
    "                            , number varchar(10)\n",
    "                            , position varchar(10)\n",
    "                            , captain varchar(10)\n",
    "                            , subbed varchar(10)\n",
    "                            , homeAway varchar(10)\n",
    "                            , subToolTip varchar(10)\n",
    "                            , onPitch varchar(10)\n",
    "                            , wasActive varchar(10)\n",
    "                            , tries bigint(7)\n",
    "                            , tryassists bigint(7)\n",
    "                            , points bigint(7)\n",
    "                            , kicks bigint(7)\n",
    "                            , passes bigint(7)\n",
    "                            , runs bigint(7)\n",
    "                            , metres bigint(7)\n",
    "                            , cleanbreaks bigint(7)\n",
    "                            , defendersbeaten bigint(7)\n",
    "                            , offload bigint(7)\n",
    "                            , lineoutwonsteal bigint(7)\n",
    "                            , turnoversconceded bigint(7)\n",
    "                            , tackles bigint(7)\n",
    "                            , missedtackles bigint(7)\n",
    "                            , lineoutswon bigint(7)\n",
    "                            , penaltiesconceded bigint(7)\n",
    "                            , yellowcards bigint(7)\n",
    "                            , redcards bigint(7)\n",
    "                            , penalties bigint(7)\n",
    "                            , penaltygoals bigint(7)\n",
    "                            , conversiongoals bigint(7)\n",
    "                            , dropgoalsconverted bigint(7)\n",
    "                            , primary key(row_nk));\"\"\".replace(\"\\n\", \"\")"
   ]
  },
  {
   "cell_type": "code",
   "execution_count": null,
   "metadata": {
    "collapsed": false
   },
   "outputs": [],
   "source": [
    "# Run this first to set up connection drop the table, and create again before putting more data into it\n",
    "\n",
    "# Set up the connection\n",
    "import pymysql\n",
    "conn = pymysql.connect(host = '127.0.0.1', port = 3306,\n",
    "                       user = 'root', passwd = '', db = 'mysql')\n",
    "\n",
    "cur = conn.cursor()\n",
    "cur.execute(\"USE scraping\")\n",
    "cur.execute(sql)"
   ]
  },
  {
   "cell_type": "code",
   "execution_count": 3,
   "metadata": {
    "collapsed": true
   },
   "outputs": [],
   "source": [
    "from urllib.request import urlopen\n",
    "from bs4 import BeautifulSoup as bs\n",
    "import datetime\n",
    "import random\n",
    "import re\n",
    "import pprint\n",
    "import json\n",
    "\n",
    "\n",
    "# These functions all look the same, just depend on the initial link passed to them, keeping them\n",
    "# separate for clarity instead of overloading\n",
    "\n",
    "# Get the links for each match on a given date\n",
    "def getLinks (articleUrl):\n",
    "    html = urlopen(\"http://www.espn.co.uk/rugby/fixtures/_/date/\" + articleUrl)\n",
    "    bsObj = bs(html, \"lxml\")\n",
    "    return bsObj.find(\"section\", {\"id\":\"pane-main\"}).findAll(\"script\", {\"type\":\"text/javascript\"})\n",
    "    \n",
    "\n",
    "# New function, very similar to the above, to extract the stats links given the above\n",
    "def getStatsLinks (articleUrl):\n",
    "    html = urlopen(\"http://www.espn.co.uk\" + articleUrl)\n",
    "    bsObj = bs(html, \"lxml\")\n",
    "    return bsObj.find(\"section\", {\"id\":\"pane-main\"}).findAll(\"script\", {\"type\":\"text/javascript\"})\n",
    "\n",
    "# Extract the JSON containin the actual stats data\n",
    "def getStats(statsUrl):\n",
    "    html = urlopen(\"http://www.espn.co.uk\" + statsUrl)\n",
    "    bsObj = bs(html, \"lxml\")  \n",
    "    return bsObj.find(\"section\", {\"id\":\"pane-main\"}).findAll(\"script\", {\"type\":\"text/javascript\"})"
   ]
  },
  {
   "cell_type": "code",
   "execution_count": 4,
   "metadata": {
    "collapsed": true
   },
   "outputs": [],
   "source": [
    "# Now try to do it for every match on a given date:\n",
    "# The list 'matches' contains 15 links for different games - try read all into DB\n",
    "\n",
    "# These are keys in the sub dictionaries that are created from the JSON object\n",
    "teams, players = ['home', 'away'], ['team', 'reserves']\n",
    "dates = ['20170304', '20170305'] # Testing with two dates\n",
    "\n",
    "for date in dates:\n",
    "    tst = getLinks(date)\n",
    "    # tst above is a one element list containing a variable, that variable is the JSON object. Use regex\n",
    "    # to just extract the JSON object itself without the variable name. t.string() is taking the variable t\n",
    "    # and converting to a string, the regex expression matches against this\n",
    "    for t in tst:\n",
    "        json_text = re.search(r'^\\s*window\\.__INITIAL_STATE__\\s*=\\s*({.*?})\\s*;\\s*$',\n",
    "                      t.string, flags=re.DOTALL | re.MULTILINE).group(1)\n",
    "\n",
    "    # Once the JSON object is extracted as text, this will turn it into a Python dictionary\n",
    "    # json.loads turns the JSON object into a Python dict - so it's now a dict and follows those rules \n",
    "    json_out = json.loads(json_text)\n",
    "    \n",
    "    # Get just the match links\n",
    "    json_match = json_out['schedule']['groups']\n",
    "    matches = []\n",
    "    for m in json_match:\n",
    "        for c in m['complete']:\n",
    "            matches.append(c['result']['href'])\n",
    "            \n",
    "    # Iterate through all the matches on a given day and pull the data. Process is similar to above as \n",
    "    # again everything needed is in the same variable in the same place in the source\n",
    "    for match_link in matches:\n",
    "        tst = getStatsLinks(match_link)\n",
    "        json_out = []\n",
    "        for t in tst:\n",
    "            json_text = re.search(r'^\\s*window\\.__INITIAL_STATE__\\s*=\\s*({.*?})\\s*;\\s*$',\n",
    "                              t.string, flags=re.DOTALL | re.MULTILINE).group(1)\n",
    "            json_out.append(json.loads(json_text))\n",
    "\n",
    "        for j in json_out[0]['gamePackage']['links']:\n",
    "            if j['pageType'] == 'matchstats':\n",
    "                match_s = j['href']\n",
    "            elif j['pageType'] == 'playerstats':\n",
    "                player_s = j['href']\n",
    "\n",
    "        # Use regex to extract the match ID from the link\n",
    "        import re\n",
    "        regex = re.compile('gameId=([0-9]*)')\n",
    "        match_id = regex.findall(match_link)\n",
    "\n",
    "        # Get the JSON object that contains the actual player stats\n",
    "        p_stats = getStats(player_s)\n",
    "\n",
    "        \n",
    "        stat_out = []\n",
    "        \n",
    "        # This is length 1 but has to be done as if we don't iterate though it's of type \"ResultsSet\"\n",
    "        # which we can do do any operations on. So after this it will take the __INITIAL_STATE__ variable,\n",
    "        # grab the JSON object and make it into a Python dict\n",
    "        for p in p_stats:\n",
    "            json_text = re.search(r'^\\s*window\\.__INITIAL_STATE__\\s*=\\s*({.*?})\\s*;\\s*$',\n",
    "                              t.string, flags=re.DOTALL | re.MULTILINE).group(1)\n",
    "            stat_out.append(json.loads(json_text))\n",
    "\n",
    "        # Iterate through the home/away and team/reserves values defined above, this allows us capture every\n",
    "        # player involved in the match\n",
    "        for t in teams:\n",
    "            for p in players:\n",
    "                data = stat_out[0][\"gamePackage\"][\"matchLineUp\"][t][p]\n",
    "\n",
    "                for d in data:\n",
    "                    dct = d\n",
    "\n",
    "                    dct['match_date'] = date\n",
    "                    dct['match_id'] = match_id[0] # regex above returns list of one element\n",
    "                    if 'id' in dct:\n",
    "                        dct['player_id'] = dct.pop('id') # rename 'id' to 'player_id'\n",
    "                    # This value should be unique and will be the primary key of the table\n",
    "                    dct['row_nk'] = dct['player_id'] + dct['match_id'] \n",
    "\n",
    "                    # remove entries we don't want - url is useless and eventTimes doesn't conform to the required structure\n",
    "                    # these are the keys, i.e. table column names\n",
    "                    cols = list(dct.keys())\n",
    "                    cols = list(filter(lambda c: c != 'eventTimes', cols))\n",
    "                    cols = list(filter(lambda c: c != 'url', cols))\n",
    "\n",
    "                    # these are used for the SQL query, so everything gets inserted at once\n",
    "                    placeholders = ', '.join(['%s'] * len(cols))\n",
    "                    columns = ', '.join(cols)\n",
    "\n",
    "                    # These are the values to be inserted into the table. Sometimes the values is a single value\n",
    "                    # and other times is a dictionary, handle both instances\n",
    "                    vals = []\n",
    "                    for d in dct:\n",
    "                        if d in cols:\n",
    "                            if type(dct[d]) is dict:\n",
    "                                vals.append(dct[d]['value'])\n",
    "                            else:\n",
    "                                vals.append(dct[d])\n",
    "\n",
    "                    cur = conn.cursor()\n",
    "                    cur.execute(\"USE scraping\")\n",
    "                    \n",
    "                    # Execute the SQL to update the table\n",
    "                    sql_update = \"insert into p_stats (%s) values (%s)\" % (columns, placeholders)\n",
    "                    cur.execute(sql_update, vals)\n",
    "                    conn.commit()\n",
    "# Once everything is done then close the connection\\\n",
    "cur.close()\n",
    "conn.close()"
   ]
  },
  {
   "cell_type": "code",
   "execution_count": 32,
   "metadata": {
    "collapsed": false,
    "scrolled": true
   },
   "outputs": [
    {
     "name": "stdout",
     "output_type": "stream",
     "text": [
      "gameStrip\n",
      "gameState\n",
      "meta\n",
      "headToHead\n",
      "gameStateClass\n",
      "matchSummary\n",
      "news\n",
      "leagueUid\n",
      "matchCommentary\n",
      "polling\n",
      "matchAttacking\n",
      "analytics\n",
      "matchHomeForm\n",
      "matchAwayForm\n",
      "matchStats\n",
      "links\n",
      "loading\n",
      "matchGlossary\n",
      "matchLineUp\n",
      "matchDefending\n",
      "showGameDetailFooter\n",
      "article\n",
      "matchEvents\n",
      "matchDiscipline\n",
      "commentaryFeedback\n",
      "matchConversation\n",
      "matchDetails\n",
      "standings\n",
      "HeadToHeadNode\n"
     ]
    }
   ],
   "source": [
    "for s in stat_out[0]['gamePackage']:\n",
    "    print(s)"
   ]
  },
  {
   "cell_type": "code",
   "execution_count": 16,
   "metadata": {
    "collapsed": false
   },
   "outputs": [
    {
     "data": {
      "text/plain": [
       "{'chartbeat': {'title': 'Lyon vs Montpellier Herault - Summary - Top 14 Orange 2017 - 5 Mar, 2017 - ESPN'},\n",
       " 'omniture': {'contentType': 'game:match',\n",
       "  'eVar44': 'gamepackage',\n",
       "  'gameInfo': '290367+Lyon vs Montpellier Herault',\n",
       "  'gameState': 'post',\n",
       "  'league': '270559',\n",
       "  'pageName': 'rugby:game:match'}}"
      ]
     },
     "execution_count": 16,
     "metadata": {},
     "output_type": "execute_result"
    }
   ],
   "source": [
    "stat_out[0]['gamePackage']['analytics']"
   ]
  },
  {
   "cell_type": "code",
   "execution_count": 41,
   "metadata": {
    "collapsed": false,
    "scrolled": false
   },
   "outputs": [
    {
     "name": "stdout",
     "output_type": "stream",
     "text": [
      "{'date': '04/03',\n",
      " 'gameState': 'final',\n",
      " 'header': 'Super Rugby 2017',\n",
      " 'network': '',\n",
      " 'target': '',\n",
      " 'teams': {'away': {'abbrev': 'CRUS',\n",
      "                    'color': 'FF0000',\n",
      "                    'href': '/rugby/team/_/id/25936/crusaders',\n",
      "                    'id': '25936',\n",
      "                    'logo': 'http://a1.espncdn.com/combiner/i?img=/i/teamlogos/rugby/teams/500/25936.png&h=42&w=42',\n",
      "                    'name': 'Crusaders',\n",
      "                    'overDetails': '',\n",
      "                    'record': '',\n",
      "                    'runDetails': '30',\n",
      "                    'score': '30',\n",
      "                    'scoreMarkup': '30',\n",
      "                    'scoreMarkupMobile': '30',\n",
      "                    'trackingName': '&lpos=rugby:game:game:clubhouse:team',\n",
      "                    'uid': 's:300~t:25936',\n",
      "                    'winner': True},\n",
      "           'home': {'abbrev': 'HLAND',\n",
      "                    'color': '000099',\n",
      "                    'href': '/rugby/team/_/id/25938/highlanders',\n",
      "                    'id': '25938',\n",
      "                    'logo': 'http://a1.espncdn.com/combiner/i?img=/i/teamlogos/rugby/teams/500/25938.png&h=42&w=42',\n",
      "                    'name': 'Highlanders',\n",
      "                    'overDetails': '',\n",
      "                    'record': '',\n",
      "                    'runDetails': '27',\n",
      "                    'score': '27',\n",
      "                    'scoreMarkup': '27',\n",
      "                    'scoreMarkupMobile': '27',\n",
      "                    'trackingName': '&lpos=rugby:game:game:clubhouse:team',\n",
      "                    'uid': 's:300~t:25938',\n",
      "                    'winner': False}},\n",
      " 'time': 'FT',\n",
      " 'winnerClass': 'team-b-winner',\n",
      " 'winnerClassMobile': 'cscore--away-winner'}\n"
     ]
    }
   ],
   "source": [
    "# Next step - find match details such as home and away team, date, and include\n",
    "from pprint import pprint\n",
    "pprint(stat_out[0]['gamePackage']['gameStrip'])"
   ]
  },
  {
   "cell_type": "code",
   "execution_count": 21,
   "metadata": {
    "collapsed": false
   },
   "outputs": [
    {
     "name": "stdout",
     "output_type": "stream",
     "text": [
      "winnerClass\n",
      "network\n",
      "header\n",
      "winnerClassMobile\n",
      "target\n",
      "teams\n",
      "time\n",
      "gameState\n",
      "date\n"
     ]
    }
   ],
   "source": [
    "for g in stat_out[0]['gamePackage']['gameStrip']:\n",
    "    print(g)"
   ]
  },
  {
   "cell_type": "code",
   "execution_count": 31,
   "metadata": {
    "collapsed": false
   },
   "outputs": [
    {
     "name": "stdout",
     "output_type": "stream",
     "text": [
      "{1: 'a', 2: 'b', 3: 'ab'}\n"
     ]
    }
   ],
   "source": [
    "tst = {1:'a', 2:'b'}\n",
    "tst[3] = tst[1] + tst[2]\n",
    "print(tst)"
   ]
  },
  {
   "cell_type": "code",
   "execution_count": 49,
   "metadata": {
    "collapsed": false
   },
   "outputs": [],
   "source": [
    "for d in data:\n",
    "    dct = d"
   ]
  },
  {
   "cell_type": "code",
   "execution_count": 50,
   "metadata": {
    "collapsed": false
   },
   "outputs": [
    {
     "data": {
      "text/plain": [
       "{'captain': False,\n",
       " 'cleanbreaks': {'name': 'Clean Breaks', 'value': '2'},\n",
       " 'conversiongoals': {'name': 'Conversion Goals', 'value': '0'},\n",
       " 'defendersbeaten': {'name': 'Defenders Beaten', 'value': '2'},\n",
       " 'dropgoalsconverted': {'name': 'Drop Goals Converted', 'value': '0'},\n",
       " 'eventTimes': {},\n",
       " 'homeAway': 'home',\n",
       " 'kicks': {'name': 'Kicks', 'value': '0'},\n",
       " 'lineoutswon': {'name': 'Lineouts Won', 'value': '0'},\n",
       " 'lineoutwonsteal': {'name': 'Lineout Won Steal', 'value': '0'},\n",
       " 'match_date': '20170304',\n",
       " 'match_id': ['290088'],\n",
       " 'metres': {'name': 'Metres Run', 'value': '61'},\n",
       " 'missedtackles': {'name': 'Missed Tackles', 'value': '2'},\n",
       " 'name': 'Taulupe Faletau',\n",
       " 'number': '8',\n",
       " 'offload': {'name': 'Offload', 'value': '0'},\n",
       " 'onPitch': True,\n",
       " 'passes': {'name': 'Passes', 'value': '8'},\n",
       " 'penalties': {'name': 'penalties', 'value': '0'},\n",
       " 'penaltiesconceded': {'name': 'Penalties Conceded', 'value': '1'},\n",
       " 'penaltygoals': {'name': 'Penalty Goals', 'value': '0'},\n",
       " 'player_id': '104729',\n",
       " 'points': {'name': 'Points', 'value': '0'},\n",
       " 'position': 'N8',\n",
       " 'redcards': {'name': 'Red Cards', 'value': '0'},\n",
       " 'runs': {'name': 'Runs', 'value': '6'},\n",
       " 'subToolTip': '',\n",
       " 'subbed': False,\n",
       " 'tackles': {'name': 'Tackles', 'value': '6'},\n",
       " 'tries': {'name': 'Tries', 'value': '0'},\n",
       " 'tryassists': {'name': 'Try Assists', 'value': '0'},\n",
       " 'turnoversconceded': {'name': 'Turnovers Conceded', 'value': '1'},\n",
       " 'url': 'http://en.espn.co.uk/sport/rugby/player/104729.html',\n",
       " 'wasActive': True,\n",
       " 'yellowcards': {'name': 'Yellow Cards', 'value': '0'}}"
      ]
     },
     "execution_count": 50,
     "metadata": {},
     "output_type": "execute_result"
    }
   ],
   "source": []
  }
 ],
 "metadata": {
  "anaconda-cloud": {},
  "kernelspec": {
   "display_name": "Python [default]",
   "language": "python",
   "name": "python3"
  },
  "language_info": {
   "codemirror_mode": {
    "name": "ipython",
    "version": 3
   },
   "file_extension": ".py",
   "mimetype": "text/x-python",
   "name": "python",
   "nbconvert_exporter": "python",
   "pygments_lexer": "ipython3",
   "version": "3.5.2"
  }
 },
 "nbformat": 4,
 "nbformat_minor": 1
}
